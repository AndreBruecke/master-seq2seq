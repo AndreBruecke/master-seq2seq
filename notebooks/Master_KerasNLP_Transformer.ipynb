{
 "cells": [
  {
   "cell_type": "code",
   "execution_count": 1,
   "metadata": {
    "colab": {
     "base_uri": "https://localhost:8080/"
    },
    "id": "W6Q5c99Ibn6h",
    "outputId": "968ccf8d-83af-40f2-bd36-c83ccbf9ef43",
    "tags": []
   },
   "outputs": [],
   "source": [
    "import sys\n",
    "sys.path.append('/thesis')"
   ]
  },
  {
   "cell_type": "code",
   "execution_count": 2,
   "metadata": {
    "colab": {
     "base_uri": "https://localhost:8080/"
    },
    "id": "fP7ayWracqNh",
    "outputId": "06aa480d-26b4-4be3-fb7c-db2439d246b0",
    "tags": []
   },
   "outputs": [
    {
     "name": "stderr",
     "output_type": "stream",
     "text": [
      "2023-07-02 15:59:18.452638: I tensorflow/core/util/port.cc:110] oneDNN custom operations are on. You may see slightly different numerical results due to floating-point round-off errors from different computation orders. To turn them off, set the environment variable `TF_ENABLE_ONEDNN_OPTS=0`.\n",
      "2023-07-02 15:59:18.485408: I tensorflow/core/platform/cpu_feature_guard.cc:182] This TensorFlow binary is optimized to use available CPU instructions in performance-critical operations.\n",
      "To enable the following instructions: AVX2 AVX_VNNI FMA, in other operations, rebuild TensorFlow with the appropriate compiler flags.\n",
      "2023-07-02 15:59:19.975115: I tensorflow/compiler/xla/stream_executor/cuda/cuda_gpu_executor.cc:982] could not open file to read NUMA node: /sys/bus/pci/devices/0000:01:00.0/numa_node\n",
      "Your kernel may have been built without NUMA support.\n",
      "2023-07-02 15:59:19.978689: I tensorflow/compiler/xla/stream_executor/cuda/cuda_gpu_executor.cc:982] could not open file to read NUMA node: /sys/bus/pci/devices/0000:01:00.0/numa_node\n",
      "Your kernel may have been built without NUMA support.\n",
      "2023-07-02 15:59:19.978856: I tensorflow/compiler/xla/stream_executor/cuda/cuda_gpu_executor.cc:982] could not open file to read NUMA node: /sys/bus/pci/devices/0000:01:00.0/numa_node\n",
      "Your kernel may have been built without NUMA support.\n"
     ]
    },
    {
     "data": {
      "text/plain": [
       "[PhysicalDevice(name='/physical_device:GPU:0', device_type='GPU')]"
      ]
     },
     "execution_count": 2,
     "metadata": {},
     "output_type": "execute_result"
    }
   ],
   "source": [
    "import json\n",
    "import pickle\n",
    "# import logging\n",
    "# import time\n",
    "\n",
    "import numpy as np\n",
    "import pandas as pd\n",
    "# import matplotlib.pyplot as plt\n",
    "\n",
    "from helper.character_encoder import DictionaryCharacterEncoder\n",
    "from helper.prediction import predict_sequence\n",
    "\n",
    "from implementation.seq2seq.transformer.utils import masked_loss, masked_accuracy\n",
    "from implementation.seq2seq.transformer.keras_nlp import prepare_batches\n",
    "from implementation.seq2seq.transformer.keras_nlp import construct_model_w_teacher_forcing\n",
    "\n",
    "import tensorflow as tf\n",
    "import keras_nlp\n",
    "\n",
    "tf.config.list_physical_devices('GPU')"
   ]
  },
  {
   "cell_type": "code",
   "execution_count": 3,
   "metadata": {
    "id": "xePXGXM_cWrl",
    "tags": []
   },
   "outputs": [],
   "source": [
    "# Input file paths\n",
    "# jrc_file = '/thesis/data/jrc_person_pairs.csv'\n",
    "# wikidata_file = '/thesis/data/wikidata_person_to_en_norm.csv'\n",
    "wikidata_file = '/thesis/data/wikidata_loc_to_en_norm.csv'\n",
    "\n",
    "model_serialization_path = '/thesis/models/transformer_wikidata_loc_to_en_1'"
   ]
  },
  {
   "cell_type": "markdown",
   "metadata": {
    "id": "0PP58W4r4UVo"
   },
   "source": [
    "## Loading & Preprocessing"
   ]
  },
  {
   "cell_type": "code",
   "execution_count": 4,
   "metadata": {
    "id": "SMRA3no_-amU",
    "tags": []
   },
   "outputs": [],
   "source": [
    "# Preprocessing\n",
    "MAX_SEQ_LENGTH = 30  # 40\n",
    "NUM_SAMPLES = 175000 # 350000\n",
    "VALIDATION_SPLIT = 0.3\n",
    "RANDOM_STATE = 1010\n",
    "BATCH_SIZE = 64\n",
    "\n",
    "# Model\n",
    "EMBEDDING_DIM = 64\n",
    "INTERMEDIATE_DIM = 512\n",
    "NUM_ENCODER_HEADS = 8\n",
    "NUM_DECODER_HEADS = 8\n",
    "NUM_ENCODER_LAYERS = 3\n",
    "NUM_DECODER_LAYERS = 6\n",
    "\n",
    "DROPOUT = 0.2\n",
    "\n",
    "# Training\n",
    "EPOCHS = 60\n",
    "CHECKPOINT_FREQ = 10"
   ]
  },
  {
   "cell_type": "code",
   "execution_count": 5,
   "metadata": {
    "colab": {
     "base_uri": "https://localhost:8080/",
     "height": 477
    },
    "id": "YklOd1WPIbr2",
    "outputId": "7c097be5-ee6c-4106-c90b-2b11634e8543",
    "tags": []
   },
   "outputs": [
    {
     "data": {
      "text/html": [
       "<div>\n",
       "<style scoped>\n",
       "    .dataframe tbody tr th:only-of-type {\n",
       "        vertical-align: middle;\n",
       "    }\n",
       "\n",
       "    .dataframe tbody tr th {\n",
       "        vertical-align: top;\n",
       "    }\n",
       "\n",
       "    .dataframe thead th {\n",
       "        text-align: right;\n",
       "    }\n",
       "</style>\n",
       "<table border=\"1\" class=\"dataframe\">\n",
       "  <thead>\n",
       "    <tr style=\"text-align: right;\">\n",
       "      <th></th>\n",
       "      <th>input</th>\n",
       "      <th>target</th>\n",
       "    </tr>\n",
       "  </thead>\n",
       "  <tbody>\n",
       "    <tr>\n",
       "      <th>0</th>\n",
       "      <td>antarktida</td>\n",
       "      <td>antarctica</td>\n",
       "    </tr>\n",
       "    <tr>\n",
       "      <th>1</th>\n",
       "      <td>antiarktis</td>\n",
       "      <td>antarctica</td>\n",
       "    </tr>\n",
       "    <tr>\n",
       "      <th>2</th>\n",
       "      <td>antarktika</td>\n",
       "      <td>antarctica</td>\n",
       "    </tr>\n",
       "    <tr>\n",
       "      <th>3</th>\n",
       "      <td>antaatika</td>\n",
       "      <td>antarctica</td>\n",
       "    </tr>\n",
       "    <tr>\n",
       "      <th>4</th>\n",
       "      <td>antarticu</td>\n",
       "      <td>antarctica</td>\n",
       "    </tr>\n",
       "    <tr>\n",
       "      <th>...</th>\n",
       "      <td>...</td>\n",
       "      <td>...</td>\n",
       "    </tr>\n",
       "    <tr>\n",
       "      <th>187832</th>\n",
       "      <td>as-sulajjil</td>\n",
       "      <td>as sulayyil</td>\n",
       "    </tr>\n",
       "    <tr>\n",
       "      <th>187833</th>\n",
       "      <td>es-suleyil</td>\n",
       "      <td>as sulayyil</td>\n",
       "    </tr>\n",
       "    <tr>\n",
       "      <th>187834</th>\n",
       "      <td>olua i refugee settlment</td>\n",
       "      <td>olua i refugee settlement</td>\n",
       "    </tr>\n",
       "    <tr>\n",
       "      <th>187835</th>\n",
       "      <td>mont olivine</td>\n",
       "      <td>olivine mountain</td>\n",
       "    </tr>\n",
       "    <tr>\n",
       "      <th>187836</th>\n",
       "      <td>njezi highlands</td>\n",
       "      <td>njesi highlands</td>\n",
       "    </tr>\n",
       "  </tbody>\n",
       "</table>\n",
       "<p>187041 rows × 2 columns</p>\n",
       "</div>"
      ],
      "text/plain": [
       "                           input                     target\n",
       "0                     antarktida                 antarctica\n",
       "1                     antiarktis                 antarctica\n",
       "2                     antarktika                 antarctica\n",
       "3                      antaatika                 antarctica\n",
       "4                      antarticu                 antarctica\n",
       "...                          ...                        ...\n",
       "187832               as-sulajjil                as sulayyil\n",
       "187833                es-suleyil                as sulayyil\n",
       "187834  olua i refugee settlment  olua i refugee settlement\n",
       "187835              mont olivine           olivine mountain\n",
       "187836           njezi highlands            njesi highlands\n",
       "\n",
       "[187041 rows x 2 columns]"
      ]
     },
     "execution_count": 5,
     "metadata": {},
     "output_type": "execute_result"
    }
   ],
   "source": [
    "# pairs_df = pd.read_csv(jrc_file, sep='|', encoding='utf-8')[['input', 'target']]\n",
    "# pairs_df = pairs_df[(pairs_df['input'].str.len() <= MAX_SEQ_LENGTH) & (pairs_df['target'].str.len() <= MAX_SEQ_LENGTH)]\n",
    "# print('Number of JRC pairs:', len(pairs_df))\n",
    "# pairs_df2 = pd.read_csv(wikidata_file, sep='|', encoding='utf-8')[['input', 'target']]\n",
    "# pairs_df2 = pairs_df2[(pairs_df2['input'].str.len() <= MAX_SEQ_LENGTH) & (pairs_df2['target'].str.len() <= MAX_SEQ_LENGTH)]\n",
    "# print('Number of Wikidata pairs:', len(pairs_df2), '\\n')\n",
    "# pairs_df = pd.concat([pairs_df, pairs_df2]).sample(frac=1, random_state=RANDOM_STATE)\n",
    "\n",
    "pairs_df = pd.read_csv(wikidata_file, sep='|', encoding='utf-8')[['input', 'target']]\n",
    "pairs_df = pairs_df[(pairs_df['input'].str.len() <= MAX_SEQ_LENGTH) & (pairs_df['target'].str.len() <= MAX_SEQ_LENGTH)]\n",
    "pairs_df"
   ]
  },
  {
   "cell_type": "code",
   "execution_count": 6,
   "metadata": {
    "id": "bKGmIus7UwPf"
   },
   "outputs": [
    {
     "name": "stderr",
     "output_type": "stream",
     "text": [
      "2023-07-02 15:59:22.742502: I tensorflow/compiler/xla/stream_executor/cuda/cuda_gpu_executor.cc:982] could not open file to read NUMA node: /sys/bus/pci/devices/0000:01:00.0/numa_node\n",
      "Your kernel may have been built without NUMA support.\n",
      "2023-07-02 15:59:22.742850: I tensorflow/compiler/xla/stream_executor/cuda/cuda_gpu_executor.cc:982] could not open file to read NUMA node: /sys/bus/pci/devices/0000:01:00.0/numa_node\n",
      "Your kernel may have been built without NUMA support.\n",
      "2023-07-02 15:59:22.743168: I tensorflow/compiler/xla/stream_executor/cuda/cuda_gpu_executor.cc:982] could not open file to read NUMA node: /sys/bus/pci/devices/0000:01:00.0/numa_node\n",
      "Your kernel may have been built without NUMA support.\n",
      "2023-07-02 15:59:23.523081: I tensorflow/compiler/xla/stream_executor/cuda/cuda_gpu_executor.cc:982] could not open file to read NUMA node: /sys/bus/pci/devices/0000:01:00.0/numa_node\n",
      "Your kernel may have been built without NUMA support.\n",
      "2023-07-02 15:59:23.523413: I tensorflow/compiler/xla/stream_executor/cuda/cuda_gpu_executor.cc:982] could not open file to read NUMA node: /sys/bus/pci/devices/0000:01:00.0/numa_node\n",
      "Your kernel may have been built without NUMA support.\n",
      "2023-07-02 15:59:23.523430: I tensorflow/core/common_runtime/gpu/gpu_device.cc:1722] Could not identify NUMA node of platform GPU id 0, defaulting to 0.  Your kernel may not have been built with NUMA support.\n",
      "2023-07-02 15:59:23.523663: I tensorflow/compiler/xla/stream_executor/cuda/cuda_gpu_executor.cc:982] could not open file to read NUMA node: /sys/bus/pci/devices/0000:01:00.0/numa_node\n",
      "Your kernel may have been built without NUMA support.\n",
      "2023-07-02 15:59:23.523696: I tensorflow/core/common_runtime/gpu/gpu_device.cc:1635] Created device /job:localhost/replica:0/task:0/device:GPU:0 with 9509 MB memory:  -> device: 0, name: NVIDIA GeForce RTX 3060, pci bus id: 0000:01:00.0, compute capability: 8.6\n"
     ]
    }
   ],
   "source": [
    "dce = DictionaryCharacterEncoder(max_seq_length=MAX_SEQ_LENGTH+2)\n",
    "train_batches, val_batches = prepare_batches(pairs_df, dce, NUM_SAMPLES, VALIDATION_SPLIT, BATCH_SIZE, RANDOM_STATE)"
   ]
  },
  {
   "cell_type": "code",
   "execution_count": 7,
   "metadata": {
    "colab": {
     "base_uri": "https://localhost:8080/"
    },
    "id": "OmIgN6LG6yf2",
    "outputId": "32bf90fd-4a8c-4e1f-a58a-383bf2e5b64a"
   },
   "outputs": [
    {
     "name": "stdout",
     "output_type": "stream",
     "text": [
      "Encoder inputs shape: (64, 20)\n",
      "Decoder inputs shape: (64, 20)\n",
      "Targets shape: (64, 20)\n"
     ]
    },
    {
     "name": "stderr",
     "output_type": "stream",
     "text": [
      "2023-07-02 15:59:27.150770: I tensorflow/core/common_runtime/executor.cc:1197] [/device:CPU:0] (DEBUG INFO) Executor start aborting (this does not indicate an error and you can ignore this message): INVALID_ARGUMENT: You must feed a value for placeholder tensor 'Placeholder/_1' with dtype variant and shape [122500]\n",
      "\t [[{{node Placeholder/_1}}]]\n",
      "2023-07-02 15:59:27.151021: I tensorflow/core/common_runtime/executor.cc:1197] [/device:CPU:0] (DEBUG INFO) Executor start aborting (this does not indicate an error and you can ignore this message): INVALID_ARGUMENT: You must feed a value for placeholder tensor 'Placeholder/_0' with dtype variant and shape [122500]\n",
      "\t [[{{node Placeholder/_0}}]]\n"
     ]
    }
   ],
   "source": [
    "for inputs, targets in train_batches.take(1):\n",
    "    print(f'Encoder inputs shape: {inputs[0].shape}')\n",
    "    print(f'Decoder inputs shape: {inputs[1].shape}')\n",
    "    print(f'Targets shape: {targets.shape}')"
   ]
  },
  {
   "cell_type": "markdown",
   "metadata": {
    "id": "tHdL_iLmSDzu"
   },
   "source": [
    "## Model"
   ]
  },
  {
   "cell_type": "code",
   "execution_count": 8,
   "metadata": {
    "id": "BpByow45PShR"
   },
   "outputs": [],
   "source": [
    "transformer = construct_model_w_teacher_forcing(\n",
    "    num_encoder_layers=NUM_ENCODER_LAYERS, \n",
    "    num_decoder_layers=NUM_DECODER_LAYERS, \n",
    "    unique_tokens=len(dce.charset),\n",
    "    max_seq_length=MAX_SEQ_LENGTH,\n",
    "    embedding_dim=EMBEDDING_DIM,\n",
    "    intermediate_dim=INTERMEDIATE_DIM,\n",
    "    encoder_heads=NUM_ENCODER_HEADS,\n",
    "    decoder_heads=NUM_DECODER_HEADS,\n",
    "    dropout=DROPOUT\n",
    ")"
   ]
  },
  {
   "cell_type": "code",
   "execution_count": 9,
   "metadata": {
    "colab": {
     "base_uri": "https://localhost:8080/"
    },
    "id": "T3kmpRcNAkwP",
    "outputId": "1c327bc0-0a3a-4dab-f77e-609ced22fa03"
   },
   "outputs": [
    {
     "name": "stdout",
     "output_type": "stream",
     "text": [
      "Model: \"transformer_w_tf\"\n",
      "__________________________________________________________________________________________________\n",
      " Layer (type)                   Output Shape         Param #     Connected to                     \n",
      "==================================================================================================\n",
      " encoder_inputs (InputLayer)    [(None, 32)]         0           []                               \n",
      "                                                                                                  \n",
      " embedding (Embedding)          (None, 32, 64)       2176        ['encoder_inputs[0][0]']         \n",
      "                                                                                                  \n",
      " position_embedding (PositionEm  (None, 32, 64)      2048        ['embedding[0][0]']              \n",
      " bedding)                                                                                         \n",
      "                                                                                                  \n",
      " tf.__operators__.add (TFOpLamb  (None, 32, 64)      0           ['embedding[0][0]',              \n",
      " da)                                                              'position_embedding[0][0]']     \n",
      "                                                                                                  \n",
      " transformer_encoder (Transform  (None, 32, 64)      83008       ['tf.__operators__.add[0][0]']   \n",
      " erEncoder)                                                                                       \n",
      "                                                                                                  \n",
      " transformer_encoder_1 (Transfo  (None, 32, 64)      83008       ['transformer_encoder[0][0]']    \n",
      " rmerEncoder)                                                                                     \n",
      "                                                                                                  \n",
      " decoder_inputs (InputLayer)    [(None, None)]       0           []                               \n",
      "                                                                                                  \n",
      " transformer_encoder_2 (Transfo  (None, 32, 64)      83008       ['transformer_encoder_1[0][0]']  \n",
      " rmerEncoder)                                                                                     \n",
      "                                                                                                  \n",
      " model_1 (Functional)           (None, None, 34)     605090      ['decoder_inputs[0][0]',         \n",
      "                                                                  'transformer_encoder_2[0][0]']  \n",
      "                                                                                                  \n",
      "==================================================================================================\n",
      "Total params: 858,338\n",
      "Trainable params: 858,338\n",
      "Non-trainable params: 0\n",
      "__________________________________________________________________________________________________\n"
     ]
    }
   ],
   "source": [
    "transformer.summary()\n",
    "# transformer.compile(\"rmsprop\", loss=\"sparse_categorical_crossentropy\", metrics=[\"accuracy\"])\n",
    "transformer.compile(\n",
    "    loss=masked_loss,\n",
    "    optimizer=tf.keras.optimizers.Adam(),\n",
    "    metrics=[masked_accuracy])"
   ]
  },
  {
   "cell_type": "markdown",
   "metadata": {
    "id": "ERhizpGkSJk3"
   },
   "source": [
    "## Training"
   ]
  },
  {
   "cell_type": "code",
   "execution_count": 10,
   "metadata": {
    "id": "cWryJFxCQV1C"
   },
   "outputs": [],
   "source": [
    "steps_per_epoch = len(train_batches)\n",
    "\n",
    "checkpoint_path = f'{model_serialization_path}/checkpoints/' + 'weights-{epoch:03d}'\n",
    "checkpoint = tf.keras.callbacks.ModelCheckpoint(\n",
    "                checkpoint_path, \n",
    "                monitor='val_masked_accuracy', \n",
    "                save_weights_only=True,\n",
    "                save_freq=int(steps_per_epoch * CHECKPOINT_FREQ), \n",
    "                verbose=1)"
   ]
  },
  {
   "cell_type": "code",
   "execution_count": 11,
   "metadata": {
    "colab": {
     "base_uri": "https://localhost:8080/"
    },
    "id": "Nt1YvG8oAn2_",
    "outputId": "72149364-17e7-4d64-eba3-5bd01a3247fb"
   },
   "outputs": [
    {
     "name": "stdout",
     "output_type": "stream",
     "text": [
      "Epoch 1/60\n"
     ]
    },
    {
     "name": "stderr",
     "output_type": "stream",
     "text": [
      "2023-07-02 15:59:29.108355: I tensorflow/core/common_runtime/executor.cc:1197] [/device:CPU:0] (DEBUG INFO) Executor start aborting (this does not indicate an error and you can ignore this message): INVALID_ARGUMENT: You must feed a value for placeholder tensor 'Placeholder/_0' with dtype variant and shape [122500]\n",
      "\t [[{{node Placeholder/_0}}]]\n",
      "2023-07-02 15:59:29.108552: I tensorflow/core/common_runtime/executor.cc:1197] [/device:CPU:0] (DEBUG INFO) Executor start aborting (this does not indicate an error and you can ignore this message): INVALID_ARGUMENT: You must feed a value for placeholder tensor 'Placeholder/_1' with dtype variant and shape [122500]\n",
      "\t [[{{node Placeholder/_1}}]]\n",
      "2023-07-02 15:59:39.717251: I tensorflow/compiler/xla/stream_executor/cuda/cuda_blas.cc:637] TensorFloat-32 will be used for the matrix multiplication. This will only be logged once.\n",
      "2023-07-02 15:59:39.788751: I tensorflow/compiler/xla/service/service.cc:169] XLA service 0x7f5f1772d350 initialized for platform CUDA (this does not guarantee that XLA will be used). Devices:\n",
      "2023-07-02 15:59:39.788787: I tensorflow/compiler/xla/service/service.cc:177]   StreamExecutor device (0): NVIDIA GeForce RTX 3060, Compute Capability 8.6\n",
      "2023-07-02 15:59:39.793358: I tensorflow/compiler/mlir/tensorflow/utils/dump_mlir_util.cc:269] disabling MLIR crash reproducer, set env var `MLIR_CRASH_REPRODUCER_DIRECTORY` to enable.\n",
      "2023-07-02 15:59:39.915714: I tensorflow/compiler/xla/stream_executor/cuda/cuda_dnn.cc:424] Loaded cuDNN version 8600\n",
      "2023-07-02 15:59:40.010015: I ./tensorflow/compiler/jit/device_compiler.h:180] Compiled cluster using XLA!  This line is logged at most once for the lifetime of the process.\n"
     ]
    },
    {
     "name": "stdout",
     "output_type": "stream",
     "text": [
      "1915/1915 [==============================] - ETA: 0s - loss: 1.2595 - masked_accuracy: 0.6579"
     ]
    },
    {
     "name": "stderr",
     "output_type": "stream",
     "text": [
      "2023-07-02 16:01:26.001961: I tensorflow/core/common_runtime/executor.cc:1197] [/device:CPU:0] (DEBUG INFO) Executor start aborting (this does not indicate an error and you can ignore this message): INVALID_ARGUMENT: You must feed a value for placeholder tensor 'Placeholder/_0' with dtype variant and shape [52500]\n",
      "\t [[{{node Placeholder/_0}}]]\n",
      "2023-07-02 16:01:26.002268: I tensorflow/core/common_runtime/executor.cc:1197] [/device:CPU:0] (DEBUG INFO) Executor start aborting (this does not indicate an error and you can ignore this message): INVALID_ARGUMENT: You must feed a value for placeholder tensor 'Placeholder/_1' with dtype variant and shape [52500]\n",
      "\t [[{{node Placeholder/_1}}]]\n"
     ]
    },
    {
     "name": "stdout",
     "output_type": "stream",
     "text": [
      "1915/1915 [==============================] - 135s 59ms/step - loss: 1.2595 - masked_accuracy: 0.6579 - val_loss: 0.6459 - val_masked_accuracy: 0.8354\n",
      "Epoch 2/60\n",
      "1915/1915 [==============================] - 111s 58ms/step - loss: 0.6408 - masked_accuracy: 0.8361 - val_loss: 0.5259 - val_masked_accuracy: 0.8644\n",
      "Epoch 3/60\n",
      "1915/1915 [==============================] - 110s 57ms/step - loss: 0.5630 - masked_accuracy: 0.8547 - val_loss: 0.4984 - val_masked_accuracy: 0.8716\n",
      "Epoch 4/60\n",
      "1915/1915 [==============================] - 111s 58ms/step - loss: 0.5261 - masked_accuracy: 0.8634 - val_loss: 0.4685 - val_masked_accuracy: 0.8770\n",
      "Epoch 5/60\n",
      "1915/1915 [==============================] - 108s 56ms/step - loss: 0.5014 - masked_accuracy: 0.8687 - val_loss: 0.4475 - val_masked_accuracy: 0.8826\n",
      "Epoch 6/60\n",
      "1915/1915 [==============================] - 108s 56ms/step - loss: 0.4835 - masked_accuracy: 0.8727 - val_loss: 0.4332 - val_masked_accuracy: 0.8863\n",
      "Epoch 7/60\n",
      "1915/1915 [==============================] - 111s 58ms/step - loss: 0.4697 - masked_accuracy: 0.8758 - val_loss: 0.4218 - val_masked_accuracy: 0.8890\n",
      "Epoch 8/60\n",
      "1915/1915 [==============================] - 108s 57ms/step - loss: 0.4573 - masked_accuracy: 0.8788 - val_loss: 0.4183 - val_masked_accuracy: 0.8905\n",
      "Epoch 9/60\n",
      "1915/1915 [==============================] - 110s 58ms/step - loss: 0.4475 - masked_accuracy: 0.8814 - val_loss: 0.4008 - val_masked_accuracy: 0.8931\n",
      "Epoch 10/60\n",
      "1914/1915 [============================>.] - ETA: 0s - loss: 0.4389 - masked_accuracy: 0.8830\n",
      "Epoch 10: saving model to /thesis/models/transformer_wikidata_loc_to_en_1/checkpoints/weights-010\n",
      "1915/1915 [==============================] - 110s 57ms/step - loss: 0.4389 - masked_accuracy: 0.8830 - val_loss: 0.3973 - val_masked_accuracy: 0.8947\n",
      "Epoch 11/60\n",
      "1915/1915 [==============================] - 109s 57ms/step - loss: 0.4304 - masked_accuracy: 0.8850 - val_loss: 0.3961 - val_masked_accuracy: 0.8961\n",
      "Epoch 12/60\n",
      "1915/1915 [==============================] - 111s 58ms/step - loss: 0.4234 - masked_accuracy: 0.8867 - val_loss: 0.3868 - val_masked_accuracy: 0.8976\n",
      "Epoch 13/60\n",
      "1915/1915 [==============================] - 109s 57ms/step - loss: 0.4170 - masked_accuracy: 0.8880 - val_loss: 0.3832 - val_masked_accuracy: 0.8987\n",
      "Epoch 14/60\n",
      "1915/1915 [==============================] - 110s 57ms/step - loss: 0.4107 - masked_accuracy: 0.8897 - val_loss: 0.3767 - val_masked_accuracy: 0.8989\n",
      "Epoch 15/60\n",
      "1915/1915 [==============================] - 108s 57ms/step - loss: 0.4066 - masked_accuracy: 0.8904 - val_loss: 0.3677 - val_masked_accuracy: 0.9020\n",
      "Epoch 16/60\n",
      "1915/1915 [==============================] - 110s 57ms/step - loss: 0.4014 - masked_accuracy: 0.8920 - val_loss: 0.3705 - val_masked_accuracy: 0.9018\n",
      "Epoch 17/60\n",
      "1915/1915 [==============================] - 110s 58ms/step - loss: 0.3971 - masked_accuracy: 0.8929 - val_loss: 0.3661 - val_masked_accuracy: 0.9030\n",
      "Epoch 18/60\n",
      "1915/1915 [==============================] - 110s 57ms/step - loss: 0.3930 - masked_accuracy: 0.8939 - val_loss: 0.3629 - val_masked_accuracy: 0.9030\n",
      "Epoch 19/60\n",
      "1915/1915 [==============================] - 109s 57ms/step - loss: 0.3900 - masked_accuracy: 0.8946 - val_loss: 0.3640 - val_masked_accuracy: 0.9039\n",
      "Epoch 20/60\n",
      "1914/1915 [============================>.] - ETA: 0s - loss: 0.3858 - masked_accuracy: 0.8959\n",
      "Epoch 20: saving model to /thesis/models/transformer_wikidata_loc_to_en_1/checkpoints/weights-020\n",
      "1915/1915 [==============================] - 111s 58ms/step - loss: 0.3858 - masked_accuracy: 0.8959 - val_loss: 0.3591 - val_masked_accuracy: 0.9048\n",
      "Epoch 21/60\n",
      "1915/1915 [==============================] - 110s 57ms/step - loss: 0.3829 - masked_accuracy: 0.8962 - val_loss: 0.3542 - val_masked_accuracy: 0.9052\n",
      "Epoch 22/60\n",
      "1915/1915 [==============================] - 108s 57ms/step - loss: 0.3803 - masked_accuracy: 0.8966 - val_loss: 0.3513 - val_masked_accuracy: 0.9064\n",
      "Epoch 23/60\n",
      "1915/1915 [==============================] - 107s 56ms/step - loss: 0.3769 - masked_accuracy: 0.8978 - val_loss: 0.3537 - val_masked_accuracy: 0.9062\n",
      "Epoch 24/60\n",
      "1915/1915 [==============================] - 108s 56ms/step - loss: 0.3738 - masked_accuracy: 0.8985 - val_loss: 0.3487 - val_masked_accuracy: 0.9080\n",
      "Epoch 25/60\n",
      "1915/1915 [==============================] - 107s 56ms/step - loss: 0.3712 - masked_accuracy: 0.8992 - val_loss: 0.3519 - val_masked_accuracy: 0.9078\n",
      "Epoch 26/60\n",
      "1915/1915 [==============================] - 108s 56ms/step - loss: 0.3684 - masked_accuracy: 0.8999 - val_loss: 0.3464 - val_masked_accuracy: 0.9085\n",
      "Epoch 27/60\n",
      "1915/1915 [==============================] - 107s 56ms/step - loss: 0.3670 - masked_accuracy: 0.9001 - val_loss: 0.3410 - val_masked_accuracy: 0.9098\n",
      "Epoch 28/60\n",
      "1915/1915 [==============================] - 107s 56ms/step - loss: 0.3642 - masked_accuracy: 0.9008 - val_loss: 0.3384 - val_masked_accuracy: 0.9105\n",
      "Epoch 29/60\n",
      "1915/1915 [==============================] - 106s 56ms/step - loss: 0.3622 - masked_accuracy: 0.9011 - val_loss: 0.3401 - val_masked_accuracy: 0.9102\n",
      "Epoch 30/60\n",
      "1913/1915 [============================>.] - ETA: 0s - loss: 0.3602 - masked_accuracy: 0.9018\n",
      "Epoch 30: saving model to /thesis/models/transformer_wikidata_loc_to_en_1/checkpoints/weights-030\n",
      "1915/1915 [==============================] - 108s 56ms/step - loss: 0.3602 - masked_accuracy: 0.9019 - val_loss: 0.3411 - val_masked_accuracy: 0.9108\n",
      "Epoch 31/60\n",
      "1915/1915 [==============================] - 107s 56ms/step - loss: 0.3577 - masked_accuracy: 0.9026 - val_loss: 0.3400 - val_masked_accuracy: 0.9112\n",
      "Epoch 32/60\n",
      "1915/1915 [==============================] - 111s 58ms/step - loss: 0.3561 - masked_accuracy: 0.9026 - val_loss: 0.3371 - val_masked_accuracy: 0.9116\n",
      "Epoch 33/60\n",
      "1915/1915 [==============================] - 108s 56ms/step - loss: 0.3542 - masked_accuracy: 0.9034 - val_loss: 0.3339 - val_masked_accuracy: 0.9113\n",
      "Epoch 34/60\n",
      "1915/1915 [==============================] - 107s 56ms/step - loss: 0.3521 - masked_accuracy: 0.9037 - val_loss: 0.3352 - val_masked_accuracy: 0.9111\n",
      "Epoch 35/60\n",
      "1915/1915 [==============================] - 109s 57ms/step - loss: 0.3507 - masked_accuracy: 0.9041 - val_loss: 0.3367 - val_masked_accuracy: 0.9122\n",
      "Epoch 36/60\n",
      "1915/1915 [==============================] - 109s 57ms/step - loss: 0.3490 - masked_accuracy: 0.9043 - val_loss: 0.3295 - val_masked_accuracy: 0.9122\n",
      "Epoch 37/60\n",
      "1915/1915 [==============================] - 108s 56ms/step - loss: 0.3484 - masked_accuracy: 0.9046 - val_loss: 0.3283 - val_masked_accuracy: 0.9126\n",
      "Epoch 38/60\n",
      "1915/1915 [==============================] - 105s 55ms/step - loss: 0.3469 - masked_accuracy: 0.9051 - val_loss: 0.3294 - val_masked_accuracy: 0.9139\n",
      "Epoch 39/60\n",
      "1915/1915 [==============================] - 111s 58ms/step - loss: 0.3448 - masked_accuracy: 0.9054 - val_loss: 0.3324 - val_masked_accuracy: 0.9127\n",
      "Epoch 40/60\n",
      "1913/1915 [============================>.] - ETA: 0s - loss: 0.3436 - masked_accuracy: 0.9060\n",
      "Epoch 40: saving model to /thesis/models/transformer_wikidata_loc_to_en_1/checkpoints/weights-040\n",
      "1915/1915 [==============================] - 108s 56ms/step - loss: 0.3435 - masked_accuracy: 0.9060 - val_loss: 0.3259 - val_masked_accuracy: 0.9138\n",
      "Epoch 41/60\n",
      "1915/1915 [==============================] - 106s 55ms/step - loss: 0.3413 - masked_accuracy: 0.9064 - val_loss: 0.3245 - val_masked_accuracy: 0.9150\n",
      "Epoch 42/60\n",
      "1915/1915 [==============================] - 108s 56ms/step - loss: 0.3407 - masked_accuracy: 0.9068 - val_loss: 0.3258 - val_masked_accuracy: 0.9141\n",
      "Epoch 43/60\n",
      "1915/1915 [==============================] - 107s 56ms/step - loss: 0.3397 - masked_accuracy: 0.9070 - val_loss: 0.3263 - val_masked_accuracy: 0.9146\n",
      "Epoch 44/60\n",
      "1915/1915 [==============================] - 106s 56ms/step - loss: 0.3382 - masked_accuracy: 0.9072 - val_loss: 0.3260 - val_masked_accuracy: 0.9144\n",
      "Epoch 45/60\n",
      "1915/1915 [==============================] - 107s 56ms/step - loss: 0.3376 - masked_accuracy: 0.9075 - val_loss: 0.3258 - val_masked_accuracy: 0.9147\n",
      "Epoch 46/60\n",
      "1915/1915 [==============================] - 107s 56ms/step - loss: 0.3358 - masked_accuracy: 0.9078 - val_loss: 0.3218 - val_masked_accuracy: 0.9155\n",
      "Epoch 47/60\n",
      "1915/1915 [==============================] - 107s 56ms/step - loss: 0.3347 - masked_accuracy: 0.9081 - val_loss: 0.3245 - val_masked_accuracy: 0.9147\n",
      "Epoch 48/60\n",
      "1915/1915 [==============================] - 106s 55ms/step - loss: 0.3344 - masked_accuracy: 0.9082 - val_loss: 0.3255 - val_masked_accuracy: 0.9146\n",
      "Epoch 49/60\n",
      "1915/1915 [==============================] - 109s 57ms/step - loss: 0.3331 - masked_accuracy: 0.9087 - val_loss: 0.3220 - val_masked_accuracy: 0.9151\n",
      "Epoch 50/60\n",
      "1914/1915 [============================>.] - ETA: 0s - loss: 0.3312 - masked_accuracy: 0.9092\n",
      "Epoch 50: saving model to /thesis/models/transformer_wikidata_loc_to_en_1/checkpoints/weights-050\n",
      "1915/1915 [==============================] - 108s 56ms/step - loss: 0.3312 - masked_accuracy: 0.9091 - val_loss: 0.3214 - val_masked_accuracy: 0.9162\n",
      "Epoch 51/60\n",
      "1915/1915 [==============================] - 106s 55ms/step - loss: 0.3312 - masked_accuracy: 0.9090 - val_loss: 0.3211 - val_masked_accuracy: 0.9158\n",
      "Epoch 52/60\n",
      "1915/1915 [==============================] - 107s 56ms/step - loss: 0.3299 - masked_accuracy: 0.9095 - val_loss: 0.3220 - val_masked_accuracy: 0.9163\n",
      "Epoch 53/60\n",
      "1915/1915 [==============================] - 107s 56ms/step - loss: 0.3286 - masked_accuracy: 0.9094 - val_loss: 0.3227 - val_masked_accuracy: 0.9154\n",
      "Epoch 54/60\n",
      "1915/1915 [==============================] - 107s 56ms/step - loss: 0.3276 - masked_accuracy: 0.9097 - val_loss: 0.3160 - val_masked_accuracy: 0.9172\n",
      "Epoch 55/60\n",
      "1915/1915 [==============================] - 108s 56ms/step - loss: 0.3270 - masked_accuracy: 0.9101 - val_loss: 0.3175 - val_masked_accuracy: 0.9168\n",
      "Epoch 56/60\n",
      "1915/1915 [==============================] - 111s 58ms/step - loss: 0.3254 - masked_accuracy: 0.9103 - val_loss: 0.3174 - val_masked_accuracy: 0.9167\n",
      "Epoch 57/60\n",
      "1915/1915 [==============================] - 107s 56ms/step - loss: 0.3263 - masked_accuracy: 0.9101 - val_loss: 0.3185 - val_masked_accuracy: 0.9168\n",
      "Epoch 58/60\n",
      "1915/1915 [==============================] - 105s 55ms/step - loss: 0.3239 - masked_accuracy: 0.9108 - val_loss: 0.3157 - val_masked_accuracy: 0.9166\n",
      "Epoch 59/60\n",
      "1915/1915 [==============================] - 107s 56ms/step - loss: 0.3236 - masked_accuracy: 0.9110 - val_loss: 0.3170 - val_masked_accuracy: 0.9171\n",
      "Epoch 60/60\n",
      "1913/1915 [============================>.] - ETA: 0s - loss: 0.3232 - masked_accuracy: 0.9110\n",
      "Epoch 60: saving model to /thesis/models/transformer_wikidata_loc_to_en_1/checkpoints/weights-060\n",
      "1915/1915 [==============================] - 107s 56ms/step - loss: 0.3232 - masked_accuracy: 0.9110 - val_loss: 0.3139 - val_masked_accuracy: 0.9173\n"
     ]
    }
   ],
   "source": [
    "history = transformer.fit(train_batches, epochs=EPOCHS, validation_data=val_batches, callbacks=[checkpoint])"
   ]
  },
  {
   "cell_type": "code",
   "execution_count": 12,
   "metadata": {
    "colab": {
     "base_uri": "https://localhost:8080/"
    },
    "id": "mquhrVPYRMhY",
    "outputId": "8c253fb1-a777-46dc-d85d-876a8ffaefa3"
   },
   "outputs": [
    {
     "name": "stderr",
     "output_type": "stream",
     "text": [
      "2023-07-02 17:48:15.536717: I tensorflow/core/common_runtime/executor.cc:1197] [/device:CPU:0] (DEBUG INFO) Executor start aborting (this does not indicate an error and you can ignore this message): INVALID_ARGUMENT: You must feed a value for placeholder tensor 'inputs' with dtype float and shape [?,?,64]\n",
      "\t [[{{node inputs}}]]\n",
      "2023-07-02 17:48:15.546673: I tensorflow/core/common_runtime/executor.cc:1197] [/device:CPU:0] (DEBUG INFO) Executor start aborting (this does not indicate an error and you can ignore this message): INVALID_ARGUMENT: You must feed a value for placeholder tensor 'decoder_sequence' with dtype float and shape [?,?,64]\n",
      "\t [[{{node decoder_sequence}}]]\n",
      "2023-07-02 17:48:15.557327: I tensorflow/core/common_runtime/executor.cc:1197] [/device:CPU:0] (DEBUG INFO) Executor start aborting (this does not indicate an error and you can ignore this message): INVALID_ARGUMENT: You must feed a value for placeholder tensor 'decoder_sequence' with dtype float and shape [?,?,64]\n",
      "\t [[{{node decoder_sequence}}]]\n",
      "2023-07-02 17:48:15.568416: I tensorflow/core/common_runtime/executor.cc:1197] [/device:CPU:0] (DEBUG INFO) Executor start aborting (this does not indicate an error and you can ignore this message): INVALID_ARGUMENT: You must feed a value for placeholder tensor 'decoder_sequence' with dtype float and shape [?,?,64]\n",
      "\t [[{{node decoder_sequence}}]]\n",
      "2023-07-02 17:48:15.578774: I tensorflow/core/common_runtime/executor.cc:1197] [/device:CPU:0] (DEBUG INFO) Executor start aborting (this does not indicate an error and you can ignore this message): INVALID_ARGUMENT: You must feed a value for placeholder tensor 'decoder_sequence' with dtype float and shape [?,?,64]\n",
      "\t [[{{node decoder_sequence}}]]\n",
      "2023-07-02 17:48:15.590153: I tensorflow/core/common_runtime/executor.cc:1197] [/device:CPU:0] (DEBUG INFO) Executor start aborting (this does not indicate an error and you can ignore this message): INVALID_ARGUMENT: You must feed a value for placeholder tensor 'decoder_sequence' with dtype float and shape [?,?,64]\n",
      "\t [[{{node decoder_sequence}}]]\n",
      "2023-07-02 17:48:15.600293: I tensorflow/core/common_runtime/executor.cc:1197] [/device:CPU:0] (DEBUG INFO) Executor start aborting (this does not indicate an error and you can ignore this message): INVALID_ARGUMENT: You must feed a value for placeholder tensor 'decoder_sequence' with dtype float and shape [?,?,64]\n",
      "\t [[{{node decoder_sequence}}]]\n",
      "2023-07-02 17:48:15.611568: I tensorflow/core/common_runtime/executor.cc:1197] [/device:CPU:0] (DEBUG INFO) Executor start aborting (this does not indicate an error and you can ignore this message): INVALID_ARGUMENT: You must feed a value for placeholder tensor 'decoder_sequence' with dtype float and shape [?,?,64]\n",
      "\t [[{{node decoder_sequence}}]]\n",
      "2023-07-02 17:48:15.621790: I tensorflow/core/common_runtime/executor.cc:1197] [/device:CPU:0] (DEBUG INFO) Executor start aborting (this does not indicate an error and you can ignore this message): INVALID_ARGUMENT: You must feed a value for placeholder tensor 'decoder_sequence' with dtype float and shape [?,?,64]\n",
      "\t [[{{node decoder_sequence}}]]\n",
      "2023-07-02 17:48:15.632460: I tensorflow/core/common_runtime/executor.cc:1197] [/device:CPU:0] (DEBUG INFO) Executor start aborting (this does not indicate an error and you can ignore this message): INVALID_ARGUMENT: You must feed a value for placeholder tensor 'decoder_sequence' with dtype float and shape [?,?,64]\n",
      "\t [[{{node decoder_sequence}}]]\n",
      "2023-07-02 17:48:15.643299: I tensorflow/core/common_runtime/executor.cc:1197] [/device:CPU:0] (DEBUG INFO) Executor start aborting (this does not indicate an error and you can ignore this message): INVALID_ARGUMENT: You must feed a value for placeholder tensor 'decoder_sequence' with dtype float and shape [?,?,64]\n",
      "\t [[{{node decoder_sequence}}]]\n",
      "2023-07-02 17:48:15.654547: I tensorflow/core/common_runtime/executor.cc:1197] [/device:CPU:0] (DEBUG INFO) Executor start aborting (this does not indicate an error and you can ignore this message): INVALID_ARGUMENT: You must feed a value for placeholder tensor 'decoder_sequence' with dtype float and shape [?,?,64]\n",
      "\t [[{{node decoder_sequence}}]]\n",
      "2023-07-02 17:48:15.665032: I tensorflow/core/common_runtime/executor.cc:1197] [/device:CPU:0] (DEBUG INFO) Executor start aborting (this does not indicate an error and you can ignore this message): INVALID_ARGUMENT: You must feed a value for placeholder tensor 'decoder_sequence' with dtype float and shape [?,?,64]\n",
      "\t [[{{node decoder_sequence}}]]\n",
      "2023-07-02 17:48:15.670458: I tensorflow/core/common_runtime/executor.cc:1197] [/device:CPU:0] (DEBUG INFO) Executor start aborting (this does not indicate an error and you can ignore this message): INVALID_ARGUMENT: You must feed a value for placeholder tensor 'inputs' with dtype float and shape [?,?,64]\n",
      "\t [[{{node inputs}}]]\n",
      "2023-07-02 17:48:16.428532: I tensorflow/core/common_runtime/executor.cc:1197] [/device:CPU:0] (DEBUG INFO) Executor start aborting (this does not indicate an error and you can ignore this message): INVALID_ARGUMENT: You must feed a value for placeholder tensor 'inputs' with dtype float and shape [?,32,64]\n",
      "\t [[{{node inputs}}]]\n",
      "2023-07-02 17:48:19.037739: I tensorflow/core/common_runtime/executor.cc:1197] [/device:CPU:0] (DEBUG INFO) Executor start aborting (this does not indicate an error and you can ignore this message): INVALID_ARGUMENT: You must feed a value for placeholder tensor 'inputs' with dtype float and shape [?,32,64]\n",
      "\t [[{{node inputs}}]]\n",
      "2023-07-02 17:48:20.666659: I tensorflow/core/common_runtime/executor.cc:1197] [/device:CPU:0] (DEBUG INFO) Executor start aborting (this does not indicate an error and you can ignore this message): INVALID_ARGUMENT: You must feed a value for placeholder tensor 'inputs' with dtype float and shape [?,?,64]\n",
      "\t [[{{node inputs}}]]\n",
      "2023-07-02 17:48:20.682250: I tensorflow/core/common_runtime/executor.cc:1197] [/device:CPU:0] (DEBUG INFO) Executor start aborting (this does not indicate an error and you can ignore this message): INVALID_ARGUMENT: You must feed a value for placeholder tensor 'decoder_sequence' with dtype float and shape [?,?,64]\n",
      "\t [[{{node decoder_sequence}}]]\n",
      "2023-07-02 17:48:20.692507: I tensorflow/core/common_runtime/executor.cc:1197] [/device:CPU:0] (DEBUG INFO) Executor start aborting (this does not indicate an error and you can ignore this message): INVALID_ARGUMENT: You must feed a value for placeholder tensor 'decoder_sequence' with dtype float and shape [?,?,64]\n",
      "\t [[{{node decoder_sequence}}]]\n",
      "2023-07-02 17:48:20.848196: I tensorflow/core/common_runtime/executor.cc:1197] [/device:CPU:0] (DEBUG INFO) Executor start aborting (this does not indicate an error and you can ignore this message): INVALID_ARGUMENT: You must feed a value for placeholder tensor 'decoder_sequence' with dtype float and shape [?,?,64]\n",
      "\t [[{{node decoder_sequence}}]]\n",
      "2023-07-02 17:48:20.858165: I tensorflow/core/common_runtime/executor.cc:1197] [/device:CPU:0] (DEBUG INFO) Executor start aborting (this does not indicate an error and you can ignore this message): INVALID_ARGUMENT: You must feed a value for placeholder tensor 'decoder_sequence' with dtype float and shape [?,?,64]\n",
      "\t [[{{node decoder_sequence}}]]\n",
      "2023-07-02 17:48:21.023571: I tensorflow/core/common_runtime/executor.cc:1197] [/device:CPU:0] (DEBUG INFO) Executor start aborting (this does not indicate an error and you can ignore this message): INVALID_ARGUMENT: You must feed a value for placeholder tensor 'decoder_sequence' with dtype float and shape [?,?,64]\n",
      "\t [[{{node decoder_sequence}}]]\n",
      "2023-07-02 17:48:21.033928: I tensorflow/core/common_runtime/executor.cc:1197] [/device:CPU:0] (DEBUG INFO) Executor start aborting (this does not indicate an error and you can ignore this message): INVALID_ARGUMENT: You must feed a value for placeholder tensor 'decoder_sequence' with dtype float and shape [?,?,64]\n",
      "\t [[{{node decoder_sequence}}]]\n",
      "2023-07-02 17:48:21.184410: I tensorflow/core/common_runtime/executor.cc:1197] [/device:CPU:0] (DEBUG INFO) Executor start aborting (this does not indicate an error and you can ignore this message): INVALID_ARGUMENT: You must feed a value for placeholder tensor 'decoder_sequence' with dtype float and shape [?,?,64]\n",
      "\t [[{{node decoder_sequence}}]]\n",
      "2023-07-02 17:48:21.193441: I tensorflow/core/common_runtime/executor.cc:1197] [/device:CPU:0] (DEBUG INFO) Executor start aborting (this does not indicate an error and you can ignore this message): INVALID_ARGUMENT: You must feed a value for placeholder tensor 'decoder_sequence' with dtype float and shape [?,?,64]\n",
      "\t [[{{node decoder_sequence}}]]\n",
      "2023-07-02 17:48:21.357217: I tensorflow/core/common_runtime/executor.cc:1197] [/device:CPU:0] (DEBUG INFO) Executor start aborting (this does not indicate an error and you can ignore this message): INVALID_ARGUMENT: You must feed a value for placeholder tensor 'decoder_sequence' with dtype float and shape [?,?,64]\n",
      "\t [[{{node decoder_sequence}}]]\n",
      "2023-07-02 17:48:21.367461: I tensorflow/core/common_runtime/executor.cc:1197] [/device:CPU:0] (DEBUG INFO) Executor start aborting (this does not indicate an error and you can ignore this message): INVALID_ARGUMENT: You must feed a value for placeholder tensor 'decoder_sequence' with dtype float and shape [?,?,64]\n",
      "\t [[{{node decoder_sequence}}]]\n",
      "2023-07-02 17:48:21.524283: I tensorflow/core/common_runtime/executor.cc:1197] [/device:CPU:0] (DEBUG INFO) Executor start aborting (this does not indicate an error and you can ignore this message): INVALID_ARGUMENT: You must feed a value for placeholder tensor 'decoder_sequence' with dtype float and shape [?,?,64]\n",
      "\t [[{{node decoder_sequence}}]]\n",
      "2023-07-02 17:48:21.534044: I tensorflow/core/common_runtime/executor.cc:1197] [/device:CPU:0] (DEBUG INFO) Executor start aborting (this does not indicate an error and you can ignore this message): INVALID_ARGUMENT: You must feed a value for placeholder tensor 'decoder_sequence' with dtype float and shape [?,?,64]\n",
      "\t [[{{node decoder_sequence}}]]\n",
      "2023-07-02 17:48:21.677303: I tensorflow/core/common_runtime/executor.cc:1197] [/device:CPU:0] (DEBUG INFO) Executor start aborting (this does not indicate an error and you can ignore this message): INVALID_ARGUMENT: You must feed a value for placeholder tensor 'inputs' with dtype float and shape [?,?,64]\n",
      "\t [[{{node inputs}}]]\n",
      "WARNING:absl:Found untraced functions such as multi_head_attention_layer_call_fn, multi_head_attention_layer_call_and_return_conditional_losses, layer_normalization_layer_call_fn, layer_normalization_layer_call_and_return_conditional_losses, dropout_1_layer_call_fn while saving (showing 5 of 342). These functions will not be directly callable after loading.\n"
     ]
    },
    {
     "name": "stdout",
     "output_type": "stream",
     "text": [
      "INFO:tensorflow:Assets written to: /thesis/models/transformer_wikidata_loc_to_en_1/assets\n"
     ]
    },
    {
     "name": "stderr",
     "output_type": "stream",
     "text": [
      "INFO:tensorflow:Assets written to: /thesis/models/transformer_wikidata_loc_to_en_1/assets\n"
     ]
    }
   ],
   "source": [
    "transformer.save(f'{model_serialization_path}/')"
   ]
  },
  {
   "cell_type": "code",
   "execution_count": 13,
   "metadata": {
    "id": "eVenfcXpVDXs"
   },
   "outputs": [],
   "source": [
    "with open(model_serialization_path + '/train_history.p', 'wb') as file_pi:\n",
    "    pickle.dump(history.history, file_pi)\n",
    "\n",
    "train_config = {\n",
    "    'batch_size': BATCH_SIZE,\n",
    "    'epochs': EPOCHS,\n",
    "    'num_samples': NUM_SAMPLES,\n",
    "    'max_seq_length': MAX_SEQ_LENGTH,\n",
    "    'random_state': RANDOM_STATE,\n",
    "    'validation_split': VALIDATION_SPLIT,\n",
    "    'encoder_layers': NUM_ENCODER_LAYERS,\n",
    "    'decoder_layers': NUM_DECODER_LAYERS,\n",
    "    'encoder_heads': NUM_ENCODER_HEADS,\n",
    "    'decoder_heads': NUM_DECODER_HEADS,\n",
    "    'dropout': DROPOUT,\n",
    "    'embedding_dim': EMBEDDING_DIM,\n",
    "    'intermediate_dim': INTERMEDIATE_DIM\n",
    "}\n",
    "\n",
    "with open(model_serialization_path + '/config.p', 'wb') as file_pi:\n",
    "    pickle.dump(train_config, file_pi)"
   ]
  },
  {
   "cell_type": "code",
   "execution_count": 14,
   "metadata": {
    "id": "3P4ZZWOi9Hl_"
   },
   "outputs": [],
   "source": [
    "transformer = tf.keras.models.load_model(f'{model_serialization_path}/', custom_objects={'masked_loss': masked_loss, 'masked_accuracy': masked_accuracy})"
   ]
  },
  {
   "cell_type": "markdown",
   "metadata": {
    "id": "hMBywO57SNO8"
   },
   "source": [
    "## Prediction"
   ]
  },
  {
   "cell_type": "code",
   "execution_count": 15,
   "metadata": {
    "colab": {
     "base_uri": "https://localhost:8080/"
    },
    "id": "vTCtzqJWElIR",
    "outputId": "b9a2bc41-949b-40a4-ad6d-f357009f13c4",
    "tags": []
   },
   "outputs": [
    {
     "name": "stdout",
     "output_type": "stream",
     "text": [
      "samuel meyer\n",
      "samuel meyer\n",
      "\n",
      "dmitry medvedev\n",
      "dmitry medvedev\n",
      "\n",
      "paulo ricardo\n",
      "ricardo paul\n",
      "\n",
      "zouheir al qaissi\n",
      "zouheir al-qaisi\n",
      "\n",
      "tarek al bichri\n",
      "tarek al-bikhri\n",
      "\n",
      "thorsten brotzmann\n",
      "thorsten brotzmann\n",
      "\n"
     ]
    }
   ],
   "source": [
    "def decode_sequences(input_sentence):\n",
    "     # Tokenize the encoder input.\n",
    "    encoder_input_tokens = tf.keras.utils.pad_sequences(\n",
    "        dce.to_ids([input_sentence], insert_markers=True), \n",
    "        padding='post', \n",
    "        maxlen=MAX_SEQ_LENGTH+2\n",
    "    )\n",
    "\n",
    "    # Define a function that outputs the next token's probability given the\n",
    "    # input sequence.\n",
    "    def token_probability_fn(decoder_input_tokens):\n",
    "        return transformer([encoder_input_tokens, decoder_input_tokens])[:, -1, :]\n",
    "\n",
    "\n",
    "    prompt = tf.fill((1, 1), dce.char_index['\\t'])\n",
    "    generated_tokens = keras_nlp.utils.top_p_search(\n",
    "        token_probability_fn,\n",
    "        prompt,\n",
    "        p=0.1,\n",
    "        max_length=MAX_SEQ_LENGTH,\n",
    "        end_token_id=dce.char_index['\\n'],\n",
    "    )\n",
    "    generated_sentences = ''.join([dce.inverse_char_index[tkn] for tkn in generated_tokens.numpy()[0]])\n",
    "    return generated_sentences.strip()\n",
    "\n",
    "names = [\n",
    "    'samuel meyer',\n",
    "    'dmitry medvedev',\n",
    "    'paulo ricardo',\n",
    "    'zouheir al qaissi',\n",
    "    'tarek al bichri',\n",
    "    'thorsten brotzmann'\n",
    "]\n",
    "\n",
    "for s in names:\n",
    "    translated = decode_sequences(s)\n",
    "    print(s)\n",
    "    print(translated)\n",
    "    print()\n"
   ]
  }
 ],
 "metadata": {
  "accelerator": "GPU",
  "colab": {
   "gpuType": "T4",
   "provenance": []
  },
  "gpuClass": "standard",
  "kernelspec": {
   "display_name": "Python 3 (ipykernel)",
   "language": "python",
   "name": "python3"
  },
  "language_info": {
   "codemirror_mode": {
    "name": "ipython",
    "version": 3
   },
   "file_extension": ".py",
   "mimetype": "text/x-python",
   "name": "python",
   "nbconvert_exporter": "python",
   "pygments_lexer": "ipython3",
   "version": "3.8.10"
  },
  "vscode": {
   "interpreter": {
    "hash": "224e0c0e73d638a3e6069c377694d7b3b3236453c6483b31fd1a6425297d86e1"
   }
  }
 },
 "nbformat": 4,
 "nbformat_minor": 4
}
