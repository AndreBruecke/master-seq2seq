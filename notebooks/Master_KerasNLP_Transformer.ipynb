{
 "cells": [
  {
   "cell_type": "code",
   "execution_count": 1,
   "metadata": {
    "colab": {
     "base_uri": "https://localhost:8080/"
    },
    "id": "W6Q5c99Ibn6h",
    "outputId": "968ccf8d-83af-40f2-bd36-c83ccbf9ef43",
    "tags": []
   },
   "outputs": [],
   "source": [
    "import sys\n",
    "sys.path.append('/thesis')"
   ]
  },
  {
   "cell_type": "code",
   "execution_count": 2,
   "metadata": {
    "colab": {
     "base_uri": "https://localhost:8080/"
    },
    "id": "fP7ayWracqNh",
    "outputId": "06aa480d-26b4-4be3-fb7c-db2439d246b0",
    "tags": []
   },
   "outputs": [
    {
     "name": "stderr",
     "output_type": "stream",
     "text": [
      "2023-09-11 15:55:56.703942: I tensorflow/core/util/port.cc:110] oneDNN custom operations are on. You may see slightly different numerical results due to floating-point round-off errors from different computation orders. To turn them off, set the environment variable `TF_ENABLE_ONEDNN_OPTS=0`.\n",
      "2023-09-11 15:55:56.730584: I tensorflow/core/platform/cpu_feature_guard.cc:182] This TensorFlow binary is optimized to use available CPU instructions in performance-critical operations.\n",
      "To enable the following instructions: AVX2 AVX_VNNI FMA, in other operations, rebuild TensorFlow with the appropriate compiler flags.\n",
      "2023-09-11 15:55:57.956794: I tensorflow/compiler/xla/stream_executor/cuda/cuda_gpu_executor.cc:982] could not open file to read NUMA node: /sys/bus/pci/devices/0000:01:00.0/numa_node\n",
      "Your kernel may have been built without NUMA support.\n",
      "2023-09-11 15:55:57.962877: I tensorflow/compiler/xla/stream_executor/cuda/cuda_gpu_executor.cc:982] could not open file to read NUMA node: /sys/bus/pci/devices/0000:01:00.0/numa_node\n",
      "Your kernel may have been built without NUMA support.\n",
      "2023-09-11 15:55:57.963059: I tensorflow/compiler/xla/stream_executor/cuda/cuda_gpu_executor.cc:982] could not open file to read NUMA node: /sys/bus/pci/devices/0000:01:00.0/numa_node\n",
      "Your kernel may have been built without NUMA support.\n"
     ]
    },
    {
     "data": {
      "text/plain": [
       "[PhysicalDevice(name='/physical_device:GPU:0', device_type='GPU')]"
      ]
     },
     "execution_count": 2,
     "metadata": {},
     "output_type": "execute_result"
    }
   ],
   "source": [
    "import json\n",
    "import pickle\n",
    "# import logging\n",
    "# import time\n",
    "\n",
    "import numpy as np\n",
    "import pandas as pd\n",
    "# import matplotlib.pyplot as plt\n",
    "\n",
    "from helper.character_encoder import DictionaryCharacterEncoder\n",
    "from helper.prediction import predict_sequence\n",
    "\n",
    "from implementation.seq2seq.transformer.utils import masked_loss, masked_accuracy\n",
    "from implementation.seq2seq.transformer.keras_nlp import prepare_batches\n",
    "from implementation.seq2seq.transformer.keras_nlp import construct_model_w_teacher_forcing\n",
    "\n",
    "import tensorflow as tf\n",
    "import keras_nlp\n",
    "\n",
    "tf.config.list_physical_devices('GPU')"
   ]
  },
  {
   "cell_type": "code",
   "execution_count": 3,
   "metadata": {
    "id": "xePXGXM_cWrl",
    "tags": []
   },
   "outputs": [],
   "source": [
    "# Input file paths\n",
    "# jrc_file = '/thesis/data/jrc_person_pairs.csv'\n",
    "# wikidata_file = '/thesis/data/wikidata_person_to_en_norm.csv'\n",
    "wikidata_file = '/thesis/data/experiments/loc_train_val_e2.csv'\n",
    "\n",
    "model_serialization_path = '/thesis/models/e2_mixed_loc'"
   ]
  },
  {
   "cell_type": "markdown",
   "metadata": {
    "id": "0PP58W4r4UVo"
   },
   "source": [
    "## Loading & Preprocessing"
   ]
  },
  {
   "cell_type": "code",
   "execution_count": 4,
   "metadata": {
    "id": "SMRA3no_-amU",
    "tags": []
   },
   "outputs": [],
   "source": [
    "# Preprocessing\n",
    "MAX_SEQ_LENGTH = 60\n",
    "NUM_SAMPLES = 1000000\n",
    "VALIDATION_SPLIT = 0.25\n",
    "RANDOM_STATE = 1010\n",
    "BATCH_SIZE = 128\n",
    "\n",
    "# Model\n",
    "EMBEDDING_DIM = 128\n",
    "INTERMEDIATE_DIM = 1024\n",
    "NUM_ENCODER_HEADS = 4\n",
    "NUM_DECODER_HEADS = 4\n",
    "NUM_ENCODER_LAYERS = 3\n",
    "NUM_DECODER_LAYERS = 6\n",
    "\n",
    "DROPOUT = 0.2\n",
    "\n",
    "# Training\n",
    "EPOCHS = 60\n",
    "CHECKPOINT_FREQ = 10"
   ]
  },
  {
   "cell_type": "code",
   "execution_count": 5,
   "metadata": {
    "colab": {
     "base_uri": "https://localhost:8080/",
     "height": 477
    },
    "id": "YklOd1WPIbr2",
    "outputId": "7c097be5-ee6c-4106-c90b-2b11634e8543",
    "tags": []
   },
   "outputs": [
    {
     "data": {
      "text/html": [
       "<div>\n",
       "<style scoped>\n",
       "    .dataframe tbody tr th:only-of-type {\n",
       "        vertical-align: middle;\n",
       "    }\n",
       "\n",
       "    .dataframe tbody tr th {\n",
       "        vertical-align: top;\n",
       "    }\n",
       "\n",
       "    .dataframe thead th {\n",
       "        text-align: right;\n",
       "    }\n",
       "</style>\n",
       "<table border=\"1\" class=\"dataframe\">\n",
       "  <thead>\n",
       "    <tr style=\"text-align: right;\">\n",
       "      <th></th>\n",
       "      <th>input</th>\n",
       "      <th>target</th>\n",
       "    </tr>\n",
       "  </thead>\n",
       "  <tbody>\n",
       "    <tr>\n",
       "      <th>0</th>\n",
       "      <td>antarctica</td>\n",
       "      <td>antarktida</td>\n",
       "    </tr>\n",
       "    <tr>\n",
       "      <th>1</th>\n",
       "      <td>antarctica</td>\n",
       "      <td>i-antatika</td>\n",
       "    </tr>\n",
       "    <tr>\n",
       "      <th>2</th>\n",
       "      <td>antarctica</td>\n",
       "      <td>antiarktis</td>\n",
       "    </tr>\n",
       "    <tr>\n",
       "      <th>3</th>\n",
       "      <td>antarctica</td>\n",
       "      <td>antarktika</td>\n",
       "    </tr>\n",
       "    <tr>\n",
       "      <th>4</th>\n",
       "      <td>antarctica</td>\n",
       "      <td>antaatika</td>\n",
       "    </tr>\n",
       "    <tr>\n",
       "      <th>...</th>\n",
       "      <td>...</td>\n",
       "      <td>...</td>\n",
       "    </tr>\n",
       "    <tr>\n",
       "      <th>13651695</th>\n",
       "      <td>rumble ii west seamount</td>\n",
       "      <td>rumble two west seamount</td>\n",
       "    </tr>\n",
       "    <tr>\n",
       "      <th>13651696</th>\n",
       "      <td>rumble five seamount</td>\n",
       "      <td>rumble v seamount</td>\n",
       "    </tr>\n",
       "    <tr>\n",
       "      <th>13651697</th>\n",
       "      <td>rumble v seamount</td>\n",
       "      <td>rumble five seamount</td>\n",
       "    </tr>\n",
       "    <tr>\n",
       "      <th>13651698</th>\n",
       "      <td>silent two seamount</td>\n",
       "      <td>silent ii seamount</td>\n",
       "    </tr>\n",
       "    <tr>\n",
       "      <th>13651699</th>\n",
       "      <td>silent ii seamount</td>\n",
       "      <td>silent two seamount</td>\n",
       "    </tr>\n",
       "  </tbody>\n",
       "</table>\n",
       "<p>13650202 rows × 2 columns</p>\n",
       "</div>"
      ],
      "text/plain": [
       "                            input                    target\n",
       "0                      antarctica                antarktida\n",
       "1                      antarctica                i-antatika\n",
       "2                      antarctica                antiarktis\n",
       "3                      antarctica                antarktika\n",
       "4                      antarctica                 antaatika\n",
       "...                           ...                       ...\n",
       "13651695  rumble ii west seamount  rumble two west seamount\n",
       "13651696     rumble five seamount         rumble v seamount\n",
       "13651697        rumble v seamount      rumble five seamount\n",
       "13651698      silent two seamount        silent ii seamount\n",
       "13651699       silent ii seamount       silent two seamount\n",
       "\n",
       "[13650202 rows x 2 columns]"
      ]
     },
     "execution_count": 5,
     "metadata": {},
     "output_type": "execute_result"
    }
   ],
   "source": [
    "# pairs_df = pd.read_csv(jrc_file, sep='|', encoding='utf-8')[['input', 'target']]\n",
    "# pairs_df = pairs_df[(pairs_df['input'].str.len() <= MAX_SEQ_LENGTH) & (pairs_df['target'].str.len() <= MAX_SEQ_LENGTH)]\n",
    "# print('Number of JRC pairs:', len(pairs_df))\n",
    "# pairs_df2 = pd.read_csv(wikidata_file, sep='|', encoding='utf-8')[['input', 'target']]\n",
    "# pairs_df2 = pairs_df2[(pairs_df2['input'].str.len() <= MAX_SEQ_LENGTH) & (pairs_df2['target'].str.len() <= MAX_SEQ_LENGTH)]\n",
    "# print('Number of Wikidata pairs:', len(pairs_df2), '\\n')\n",
    "# pairs_df = pd.concat([pairs_df, pairs_df2]).sample(frac=1, random_state=RANDOM_STATE)\n",
    "\n",
    "pairs_df = pd.read_csv(wikidata_file, sep='|', encoding='utf-8')[['input', 'target']]\n",
    "pairs_df = pairs_df[(pairs_df['input'].str.len() <= MAX_SEQ_LENGTH) & (pairs_df['target'].str.len() <= MAX_SEQ_LENGTH)]\n",
    "pairs_df"
   ]
  },
  {
   "cell_type": "code",
   "execution_count": 6,
   "metadata": {
    "id": "bKGmIus7UwPf"
   },
   "outputs": [
    {
     "name": "stderr",
     "output_type": "stream",
     "text": [
      "2023-09-11 15:56:26.575828: I tensorflow/compiler/xla/stream_executor/cuda/cuda_gpu_executor.cc:982] could not open file to read NUMA node: /sys/bus/pci/devices/0000:01:00.0/numa_node\n",
      "Your kernel may have been built without NUMA support.\n",
      "2023-09-11 15:56:26.576310: I tensorflow/compiler/xla/stream_executor/cuda/cuda_gpu_executor.cc:982] could not open file to read NUMA node: /sys/bus/pci/devices/0000:01:00.0/numa_node\n",
      "Your kernel may have been built without NUMA support.\n",
      "2023-09-11 15:56:26.576610: I tensorflow/compiler/xla/stream_executor/cuda/cuda_gpu_executor.cc:982] could not open file to read NUMA node: /sys/bus/pci/devices/0000:01:00.0/numa_node\n",
      "Your kernel may have been built without NUMA support.\n",
      "2023-09-11 15:56:27.044123: I tensorflow/compiler/xla/stream_executor/cuda/cuda_gpu_executor.cc:982] could not open file to read NUMA node: /sys/bus/pci/devices/0000:01:00.0/numa_node\n",
      "Your kernel may have been built without NUMA support.\n",
      "2023-09-11 15:56:27.044307: I tensorflow/compiler/xla/stream_executor/cuda/cuda_gpu_executor.cc:982] could not open file to read NUMA node: /sys/bus/pci/devices/0000:01:00.0/numa_node\n",
      "Your kernel may have been built without NUMA support.\n",
      "2023-09-11 15:56:27.044318: I tensorflow/core/common_runtime/gpu/gpu_device.cc:1722] Could not identify NUMA node of platform GPU id 0, defaulting to 0.  Your kernel may not have been built with NUMA support.\n",
      "2023-09-11 15:56:27.044417: I tensorflow/compiler/xla/stream_executor/cuda/cuda_gpu_executor.cc:982] could not open file to read NUMA node: /sys/bus/pci/devices/0000:01:00.0/numa_node\n",
      "Your kernel may have been built without NUMA support.\n",
      "2023-09-11 15:56:27.044443: I tensorflow/core/common_runtime/gpu/gpu_device.cc:1635] Created device /job:localhost/replica:0/task:0/device:GPU:0 with 9509 MB memory:  -> device: 0, name: NVIDIA GeForce RTX 3060, pci bus id: 0000:01:00.0, compute capability: 8.6\n"
     ]
    }
   ],
   "source": [
    "dce = DictionaryCharacterEncoder(max_seq_length=MAX_SEQ_LENGTH+2, charset='extended')\n",
    "train_batches, val_batches = prepare_batches(pairs_df, dce, NUM_SAMPLES, VALIDATION_SPLIT, BATCH_SIZE, RANDOM_STATE)"
   ]
  },
  {
   "cell_type": "code",
   "execution_count": 7,
   "metadata": {
    "colab": {
     "base_uri": "https://localhost:8080/"
    },
    "id": "OmIgN6LG6yf2",
    "outputId": "32bf90fd-4a8c-4e1f-a58a-383bf2e5b64a"
   },
   "outputs": [
    {
     "name": "stdout",
     "output_type": "stream",
     "text": [
      "Encoder inputs shape: (128, 30)\n",
      "Decoder inputs shape: (128, 31)\n",
      "Targets shape: (128, 31)\n"
     ]
    },
    {
     "name": "stderr",
     "output_type": "stream",
     "text": [
      "2023-09-11 15:56:46.674902: I tensorflow/core/common_runtime/executor.cc:1197] [/device:CPU:0] (DEBUG INFO) Executor start aborting (this does not indicate an error and you can ignore this message): INVALID_ARGUMENT: You must feed a value for placeholder tensor 'Placeholder/_1' with dtype variant and shape [750000]\n",
      "\t [[{{node Placeholder/_1}}]]\n",
      "2023-09-11 15:56:46.675148: I tensorflow/core/common_runtime/executor.cc:1197] [/device:CPU:0] (DEBUG INFO) Executor start aborting (this does not indicate an error and you can ignore this message): INVALID_ARGUMENT: You must feed a value for placeholder tensor 'Placeholder/_1' with dtype variant and shape [750000]\n",
      "\t [[{{node Placeholder/_1}}]]\n"
     ]
    }
   ],
   "source": [
    "for inputs, targets in train_batches.take(1):\n",
    "    print(f'Encoder inputs shape: {inputs[0].shape}')\n",
    "    print(f'Decoder inputs shape: {inputs[1].shape}')\n",
    "    print(f'Targets shape: {targets.shape}')"
   ]
  },
  {
   "cell_type": "markdown",
   "metadata": {
    "id": "tHdL_iLmSDzu"
   },
   "source": [
    "## Model"
   ]
  },
  {
   "cell_type": "code",
   "execution_count": 8,
   "metadata": {
    "id": "BpByow45PShR"
   },
   "outputs": [],
   "source": [
    "transformer = construct_model_w_teacher_forcing(\n",
    "    num_encoder_layers=NUM_ENCODER_LAYERS, \n",
    "    num_decoder_layers=NUM_DECODER_LAYERS, \n",
    "    unique_tokens=len(dce.charset),\n",
    "    max_seq_length=MAX_SEQ_LENGTH,\n",
    "    embedding_dim=EMBEDDING_DIM,\n",
    "    intermediate_dim=INTERMEDIATE_DIM,\n",
    "    encoder_heads=NUM_ENCODER_HEADS,\n",
    "    decoder_heads=NUM_DECODER_HEADS,\n",
    "    dropout=DROPOUT\n",
    ")"
   ]
  },
  {
   "cell_type": "code",
   "execution_count": 9,
   "metadata": {
    "colab": {
     "base_uri": "https://localhost:8080/"
    },
    "id": "T3kmpRcNAkwP",
    "outputId": "1c327bc0-0a3a-4dab-f77e-609ced22fa03"
   },
   "outputs": [
    {
     "name": "stdout",
     "output_type": "stream",
     "text": [
      "Model: \"transformer_w_tf\"\n",
      "__________________________________________________________________________________________________\n",
      " Layer (type)                   Output Shape         Param #     Connected to                     \n",
      "==================================================================================================\n",
      " encoder_inputs (InputLayer)    [(None, 62)]         0           []                               \n",
      "                                                                                                  \n",
      " embedding (Embedding)          (None, 62, 128)      5888        ['encoder_inputs[0][0]']         \n",
      "                                                                                                  \n",
      " position_embedding (PositionEm  (None, 62, 128)     7936        ['embedding[0][0]']              \n",
      " bedding)                                                                                         \n",
      "                                                                                                  \n",
      " tf.__operators__.add (TFOpLamb  (None, 62, 128)     0           ['embedding[0][0]',              \n",
      " da)                                                              'position_embedding[0][0]']     \n",
      "                                                                                                  \n",
      " transformer_encoder (Transform  (None, 62, 128)     329856      ['tf.__operators__.add[0][0]']   \n",
      " erEncoder)                                                                                       \n",
      "                                                                                                  \n",
      " transformer_encoder_1 (Transfo  (None, 62, 128)     329856      ['transformer_encoder[0][0]']    \n",
      " rmerEncoder)                                                                                     \n",
      "                                                                                                  \n",
      " decoder_inputs (InputLayer)    [(None, None)]       0           []                               \n",
      "                                                                                                  \n",
      " transformer_encoder_2 (Transfo  (None, 62, 128)     329856      ['transformer_encoder_1[0][0]']  \n",
      " rmerEncoder)                                                                                     \n",
      "                                                                                                  \n",
      " model_1 (Functional)           (None, None, 46)     2396718     ['decoder_inputs[0][0]',         \n",
      "                                                                  'transformer_encoder_2[0][0]']  \n",
      "                                                                                                  \n",
      "==================================================================================================\n",
      "Total params: 3,400,110\n",
      "Trainable params: 3,400,110\n",
      "Non-trainable params: 0\n",
      "__________________________________________________________________________________________________\n"
     ]
    }
   ],
   "source": [
    "transformer.summary()\n",
    "# transformer.compile(\"rmsprop\", loss=\"sparse_categorical_crossentropy\", metrics=[\"accuracy\"])\n",
    "transformer.compile(\n",
    "    loss=masked_loss,\n",
    "    optimizer=tf.keras.optimizers.Adam(),\n",
    "    metrics=[masked_accuracy])"
   ]
  },
  {
   "cell_type": "markdown",
   "metadata": {
    "id": "ERhizpGkSJk3"
   },
   "source": [
    "## Training"
   ]
  },
  {
   "cell_type": "code",
   "execution_count": 10,
   "metadata": {
    "id": "cWryJFxCQV1C"
   },
   "outputs": [],
   "source": [
    "steps_per_epoch = len(train_batches)\n",
    "\n",
    "checkpoint_path = f'{model_serialization_path}/checkpoints/' + 'weights-{epoch:03d}'\n",
    "checkpoint = tf.keras.callbacks.ModelCheckpoint(\n",
    "                checkpoint_path, \n",
    "                monitor='val_masked_accuracy', \n",
    "                save_weights_only=True,\n",
    "                save_freq=int(steps_per_epoch * CHECKPOINT_FREQ), \n",
    "                verbose=1)\n",
    "\n",
    "es_callback = tf.keras.callbacks.EarlyStopping(monitor='val_masked_accuracy', patience=3, min_delta=0.0015, mode='max', restore_best_weights=True)"
   ]
  },
  {
   "cell_type": "code",
   "execution_count": 11,
   "metadata": {
    "colab": {
     "base_uri": "https://localhost:8080/"
    },
    "id": "Nt1YvG8oAn2_",
    "outputId": "72149364-17e7-4d64-eba3-5bd01a3247fb"
   },
   "outputs": [
    {
     "name": "stdout",
     "output_type": "stream",
     "text": [
      "Epoch 1/60\n"
     ]
    },
    {
     "name": "stderr",
     "output_type": "stream",
     "text": [
      "2023-09-11 15:56:48.456131: I tensorflow/core/common_runtime/executor.cc:1197] [/device:CPU:0] (DEBUG INFO) Executor start aborting (this does not indicate an error and you can ignore this message): INVALID_ARGUMENT: You must feed a value for placeholder tensor 'Placeholder/_1' with dtype variant and shape [750000]\n",
      "\t [[{{node Placeholder/_1}}]]\n",
      "2023-09-11 15:56:48.456355: I tensorflow/core/common_runtime/executor.cc:1197] [/device:CPU:0] (DEBUG INFO) Executor start aborting (this does not indicate an error and you can ignore this message): INVALID_ARGUMENT: You must feed a value for placeholder tensor 'Placeholder/_1' with dtype variant and shape [750000]\n",
      "\t [[{{node Placeholder/_1}}]]\n",
      "2023-09-11 15:56:58.889791: I tensorflow/compiler/xla/stream_executor/cuda/cuda_blas.cc:637] TensorFloat-32 will be used for the matrix multiplication. This will only be logged once.\n",
      "2023-09-11 15:56:59.237730: I tensorflow/compiler/xla/service/service.cc:169] XLA service 0x7f89e40b4fc0 initialized for platform CUDA (this does not guarantee that XLA will be used). Devices:\n",
      "2023-09-11 15:56:59.237755: I tensorflow/compiler/xla/service/service.cc:177]   StreamExecutor device (0): NVIDIA GeForce RTX 3060, Compute Capability 8.6\n",
      "2023-09-11 15:56:59.241317: I tensorflow/compiler/mlir/tensorflow/utils/dump_mlir_util.cc:269] disabling MLIR crash reproducer, set env var `MLIR_CRASH_REPRODUCER_DIRECTORY` to enable.\n",
      "2023-09-11 15:56:59.347605: I tensorflow/compiler/xla/stream_executor/cuda/cuda_dnn.cc:424] Loaded cuDNN version 8600\n",
      "2023-09-11 15:56:59.420152: I ./tensorflow/compiler/jit/device_compiler.h:180] Compiled cluster using XLA!  This line is logged at most once for the lifetime of the process.\n"
     ]
    },
    {
     "name": "stdout",
     "output_type": "stream",
     "text": [
      "5860/5860 [==============================] - ETA: 0s - loss: 1.5109 - masked_accuracy: 0.5942"
     ]
    },
    {
     "name": "stderr",
     "output_type": "stream",
     "text": [
      "2023-09-11 16:04:23.683878: I tensorflow/core/common_runtime/executor.cc:1197] [/device:CPU:0] (DEBUG INFO) Executor start aborting (this does not indicate an error and you can ignore this message): INVALID_ARGUMENT: You must feed a value for placeholder tensor 'Placeholder/_1' with dtype variant and shape [250000]\n",
      "\t [[{{node Placeholder/_1}}]]\n",
      "2023-09-11 16:04:23.684144: I tensorflow/core/common_runtime/executor.cc:1197] [/device:CPU:0] (DEBUG INFO) Executor start aborting (this does not indicate an error and you can ignore this message): INVALID_ARGUMENT: You must feed a value for placeholder tensor 'Placeholder/_0' with dtype variant and shape [250000]\n",
      "\t [[{{node Placeholder/_0}}]]\n"
     ]
    },
    {
     "name": "stdout",
     "output_type": "stream",
     "text": [
      "5860/5860 [==============================] - 516s 84ms/step - loss: 1.5109 - masked_accuracy: 0.5942 - val_loss: 1.2028 - val_masked_accuracy: 0.6784\n",
      "Epoch 2/60\n",
      "5860/5860 [==============================] - 491s 84ms/step - loss: 1.2151 - masked_accuracy: 0.6740 - val_loss: 1.1256 - val_masked_accuracy: 0.6958\n",
      "Epoch 3/60\n",
      "5860/5860 [==============================] - 490s 84ms/step - loss: 1.1603 - masked_accuracy: 0.6867 - val_loss: 1.0818 - val_masked_accuracy: 0.7052\n",
      "Epoch 4/60\n",
      "5860/5860 [==============================] - 491s 84ms/step - loss: 1.1285 - masked_accuracy: 0.6941 - val_loss: 1.0564 - val_masked_accuracy: 0.7119\n",
      "Epoch 5/60\n",
      "5860/5860 [==============================] - 490s 84ms/step - loss: 1.1067 - masked_accuracy: 0.6992 - val_loss: 1.0445 - val_masked_accuracy: 0.7158\n",
      "Epoch 6/60\n",
      "5860/5860 [==============================] - 490s 84ms/step - loss: 1.0907 - masked_accuracy: 0.7029 - val_loss: 1.0274 - val_masked_accuracy: 0.7185\n",
      "Epoch 7/60\n",
      "5860/5860 [==============================] - 491s 84ms/step - loss: 1.0775 - masked_accuracy: 0.7060 - val_loss: 1.0193 - val_masked_accuracy: 0.7215\n",
      "Epoch 8/60\n",
      "5860/5860 [==============================] - 490s 84ms/step - loss: 1.0665 - masked_accuracy: 0.7087 - val_loss: 1.0091 - val_masked_accuracy: 0.7235\n",
      "Epoch 9/60\n",
      "5860/5860 [==============================] - 495s 84ms/step - loss: 1.0575 - masked_accuracy: 0.7106 - val_loss: 1.0001 - val_masked_accuracy: 0.7253\n",
      "Epoch 10/60\n",
      "5859/5860 [============================>.] - ETA: 0s - loss: 1.0496 - masked_accuracy: 0.7125\n",
      "Epoch 10: saving model to /thesis/models/e2_mixed_loc/checkpoints/weights-010\n",
      "5860/5860 [==============================] - 492s 84ms/step - loss: 1.0496 - masked_accuracy: 0.7125 - val_loss: 0.9937 - val_masked_accuracy: 0.7272\n",
      "Epoch 11/60\n",
      "5860/5860 [==============================] - 490s 84ms/step - loss: 1.0431 - masked_accuracy: 0.7142 - val_loss: 0.9888 - val_masked_accuracy: 0.7282\n",
      "Epoch 12/60\n",
      "5860/5860 [==============================] - 490s 84ms/step - loss: 1.0369 - masked_accuracy: 0.7155 - val_loss: 0.9842 - val_masked_accuracy: 0.7292\n",
      "Epoch 13/60\n",
      "5860/5860 [==============================] - 491s 84ms/step - loss: 1.0319 - masked_accuracy: 0.7167 - val_loss: 0.9794 - val_masked_accuracy: 0.7304\n",
      "Epoch 14/60\n",
      "5860/5860 [==============================] - 488s 83ms/step - loss: 1.0269 - masked_accuracy: 0.7180 - val_loss: 0.9782 - val_masked_accuracy: 0.7311\n",
      "Epoch 15/60\n",
      "5860/5860 [==============================] - 490s 84ms/step - loss: 1.0231 - masked_accuracy: 0.7189 - val_loss: 0.9750 - val_masked_accuracy: 0.7318\n",
      "Epoch 16/60\n",
      "5860/5860 [==============================] - 489s 84ms/step - loss: 1.0187 - masked_accuracy: 0.7199 - val_loss: 0.9714 - val_masked_accuracy: 0.7332\n",
      "Epoch 17/60\n",
      "5860/5860 [==============================] - 490s 84ms/step - loss: 1.0151 - masked_accuracy: 0.7208 - val_loss: 0.9698 - val_masked_accuracy: 0.7327\n",
      "Epoch 18/60\n",
      "5860/5860 [==============================] - 490s 84ms/step - loss: 1.0119 - masked_accuracy: 0.7216 - val_loss: 0.9696 - val_masked_accuracy: 0.7339\n",
      "Epoch 19/60\n",
      "5860/5860 [==============================] - 490s 84ms/step - loss: 1.0089 - masked_accuracy: 0.7222 - val_loss: 0.9740 - val_masked_accuracy: 0.7342\n"
     ]
    }
   ],
   "source": [
    "history = transformer.fit(train_batches, epochs=EPOCHS, validation_data=val_batches, callbacks=[checkpoint, es_callback])"
   ]
  },
  {
   "cell_type": "code",
   "execution_count": 12,
   "metadata": {
    "colab": {
     "base_uri": "https://localhost:8080/"
    },
    "id": "mquhrVPYRMhY",
    "outputId": "8c253fb1-a777-46dc-d85d-876a8ffaefa3"
   },
   "outputs": [
    {
     "name": "stderr",
     "output_type": "stream",
     "text": [
      "2023-09-11 18:32:36.497507: I tensorflow/core/common_runtime/executor.cc:1197] [/device:CPU:0] (DEBUG INFO) Executor start aborting (this does not indicate an error and you can ignore this message): INVALID_ARGUMENT: You must feed a value for placeholder tensor 'inputs' with dtype float and shape [?,?,128]\n",
      "\t [[{{node inputs}}]]\n",
      "2023-09-11 18:32:36.507560: I tensorflow/core/common_runtime/executor.cc:1197] [/device:CPU:0] (DEBUG INFO) Executor start aborting (this does not indicate an error and you can ignore this message): INVALID_ARGUMENT: You must feed a value for placeholder tensor 'decoder_sequence' with dtype float and shape [?,?,128]\n",
      "\t [[{{node decoder_sequence}}]]\n",
      "2023-09-11 18:32:36.520177: I tensorflow/core/common_runtime/executor.cc:1197] [/device:CPU:0] (DEBUG INFO) Executor start aborting (this does not indicate an error and you can ignore this message): INVALID_ARGUMENT: You must feed a value for placeholder tensor 'decoder_sequence' with dtype float and shape [?,?,128]\n",
      "\t [[{{node decoder_sequence}}]]\n",
      "2023-09-11 18:32:36.532433: I tensorflow/core/common_runtime/executor.cc:1197] [/device:CPU:0] (DEBUG INFO) Executor start aborting (this does not indicate an error and you can ignore this message): INVALID_ARGUMENT: You must feed a value for placeholder tensor 'decoder_sequence' with dtype float and shape [?,?,128]\n",
      "\t [[{{node decoder_sequence}}]]\n",
      "2023-09-11 18:32:36.544308: I tensorflow/core/common_runtime/executor.cc:1197] [/device:CPU:0] (DEBUG INFO) Executor start aborting (this does not indicate an error and you can ignore this message): INVALID_ARGUMENT: You must feed a value for placeholder tensor 'decoder_sequence' with dtype float and shape [?,?,128]\n",
      "\t [[{{node decoder_sequence}}]]\n",
      "2023-09-11 18:32:36.556593: I tensorflow/core/common_runtime/executor.cc:1197] [/device:CPU:0] (DEBUG INFO) Executor start aborting (this does not indicate an error and you can ignore this message): INVALID_ARGUMENT: You must feed a value for placeholder tensor 'decoder_sequence' with dtype float and shape [?,?,128]\n",
      "\t [[{{node decoder_sequence}}]]\n",
      "2023-09-11 18:32:36.570930: I tensorflow/core/common_runtime/executor.cc:1197] [/device:CPU:0] (DEBUG INFO) Executor start aborting (this does not indicate an error and you can ignore this message): INVALID_ARGUMENT: You must feed a value for placeholder tensor 'decoder_sequence' with dtype float and shape [?,?,128]\n",
      "\t [[{{node decoder_sequence}}]]\n",
      "2023-09-11 18:32:36.583179: I tensorflow/core/common_runtime/executor.cc:1197] [/device:CPU:0] (DEBUG INFO) Executor start aborting (this does not indicate an error and you can ignore this message): INVALID_ARGUMENT: You must feed a value for placeholder tensor 'decoder_sequence' with dtype float and shape [?,?,128]\n",
      "\t [[{{node decoder_sequence}}]]\n",
      "2023-09-11 18:32:36.594343: I tensorflow/core/common_runtime/executor.cc:1197] [/device:CPU:0] (DEBUG INFO) Executor start aborting (this does not indicate an error and you can ignore this message): INVALID_ARGUMENT: You must feed a value for placeholder tensor 'decoder_sequence' with dtype float and shape [?,?,128]\n",
      "\t [[{{node decoder_sequence}}]]\n",
      "2023-09-11 18:32:36.605096: I tensorflow/core/common_runtime/executor.cc:1197] [/device:CPU:0] (DEBUG INFO) Executor start aborting (this does not indicate an error and you can ignore this message): INVALID_ARGUMENT: You must feed a value for placeholder tensor 'decoder_sequence' with dtype float and shape [?,?,128]\n",
      "\t [[{{node decoder_sequence}}]]\n",
      "2023-09-11 18:32:36.616630: I tensorflow/core/common_runtime/executor.cc:1197] [/device:CPU:0] (DEBUG INFO) Executor start aborting (this does not indicate an error and you can ignore this message): INVALID_ARGUMENT: You must feed a value for placeholder tensor 'decoder_sequence' with dtype float and shape [?,?,128]\n",
      "\t [[{{node decoder_sequence}}]]\n",
      "2023-09-11 18:32:36.628909: I tensorflow/core/common_runtime/executor.cc:1197] [/device:CPU:0] (DEBUG INFO) Executor start aborting (this does not indicate an error and you can ignore this message): INVALID_ARGUMENT: You must feed a value for placeholder tensor 'decoder_sequence' with dtype float and shape [?,?,128]\n",
      "\t [[{{node decoder_sequence}}]]\n",
      "2023-09-11 18:32:36.640011: I tensorflow/core/common_runtime/executor.cc:1197] [/device:CPU:0] (DEBUG INFO) Executor start aborting (this does not indicate an error and you can ignore this message): INVALID_ARGUMENT: You must feed a value for placeholder tensor 'decoder_sequence' with dtype float and shape [?,?,128]\n",
      "\t [[{{node decoder_sequence}}]]\n",
      "2023-09-11 18:32:36.644696: I tensorflow/core/common_runtime/executor.cc:1197] [/device:CPU:0] (DEBUG INFO) Executor start aborting (this does not indicate an error and you can ignore this message): INVALID_ARGUMENT: You must feed a value for placeholder tensor 'inputs' with dtype float and shape [?,?,128]\n",
      "\t [[{{node inputs}}]]\n",
      "2023-09-11 18:32:37.407067: I tensorflow/core/common_runtime/executor.cc:1197] [/device:CPU:0] (DEBUG INFO) Executor start aborting (this does not indicate an error and you can ignore this message): INVALID_ARGUMENT: You must feed a value for placeholder tensor 'inputs' with dtype float and shape [?,62,128]\n",
      "\t [[{{node inputs}}]]\n",
      "2023-09-11 18:32:39.897830: I tensorflow/core/common_runtime/executor.cc:1197] [/device:CPU:0] (DEBUG INFO) Executor start aborting (this does not indicate an error and you can ignore this message): INVALID_ARGUMENT: You must feed a value for placeholder tensor 'inputs' with dtype float and shape [?,62,128]\n",
      "\t [[{{node inputs}}]]\n",
      "2023-09-11 18:32:41.627100: I tensorflow/core/common_runtime/executor.cc:1197] [/device:CPU:0] (DEBUG INFO) Executor start aborting (this does not indicate an error and you can ignore this message): INVALID_ARGUMENT: You must feed a value for placeholder tensor 'inputs' with dtype float and shape [?,?,128]\n",
      "\t [[{{node inputs}}]]\n",
      "2023-09-11 18:32:41.642114: I tensorflow/core/common_runtime/executor.cc:1197] [/device:CPU:0] (DEBUG INFO) Executor start aborting (this does not indicate an error and you can ignore this message): INVALID_ARGUMENT: You must feed a value for placeholder tensor 'decoder_sequence' with dtype float and shape [?,?,128]\n",
      "\t [[{{node decoder_sequence}}]]\n",
      "2023-09-11 18:32:41.652064: I tensorflow/core/common_runtime/executor.cc:1197] [/device:CPU:0] (DEBUG INFO) Executor start aborting (this does not indicate an error and you can ignore this message): INVALID_ARGUMENT: You must feed a value for placeholder tensor 'decoder_sequence' with dtype float and shape [?,?,128]\n",
      "\t [[{{node decoder_sequence}}]]\n",
      "2023-09-11 18:32:41.805250: I tensorflow/core/common_runtime/executor.cc:1197] [/device:CPU:0] (DEBUG INFO) Executor start aborting (this does not indicate an error and you can ignore this message): INVALID_ARGUMENT: You must feed a value for placeholder tensor 'decoder_sequence' with dtype float and shape [?,?,128]\n",
      "\t [[{{node decoder_sequence}}]]\n",
      "2023-09-11 18:32:41.816535: I tensorflow/core/common_runtime/executor.cc:1197] [/device:CPU:0] (DEBUG INFO) Executor start aborting (this does not indicate an error and you can ignore this message): INVALID_ARGUMENT: You must feed a value for placeholder tensor 'decoder_sequence' with dtype float and shape [?,?,128]\n",
      "\t [[{{node decoder_sequence}}]]\n",
      "2023-09-11 18:32:41.986049: I tensorflow/core/common_runtime/executor.cc:1197] [/device:CPU:0] (DEBUG INFO) Executor start aborting (this does not indicate an error and you can ignore this message): INVALID_ARGUMENT: You must feed a value for placeholder tensor 'decoder_sequence' with dtype float and shape [?,?,128]\n",
      "\t [[{{node decoder_sequence}}]]\n",
      "2023-09-11 18:32:41.997580: I tensorflow/core/common_runtime/executor.cc:1197] [/device:CPU:0] (DEBUG INFO) Executor start aborting (this does not indicate an error and you can ignore this message): INVALID_ARGUMENT: You must feed a value for placeholder tensor 'decoder_sequence' with dtype float and shape [?,?,128]\n",
      "\t [[{{node decoder_sequence}}]]\n",
      "2023-09-11 18:32:42.156462: I tensorflow/core/common_runtime/executor.cc:1197] [/device:CPU:0] (DEBUG INFO) Executor start aborting (this does not indicate an error and you can ignore this message): INVALID_ARGUMENT: You must feed a value for placeholder tensor 'decoder_sequence' with dtype float and shape [?,?,128]\n",
      "\t [[{{node decoder_sequence}}]]\n",
      "2023-09-11 18:32:42.167114: I tensorflow/core/common_runtime/executor.cc:1197] [/device:CPU:0] (DEBUG INFO) Executor start aborting (this does not indicate an error and you can ignore this message): INVALID_ARGUMENT: You must feed a value for placeholder tensor 'decoder_sequence' with dtype float and shape [?,?,128]\n",
      "\t [[{{node decoder_sequence}}]]\n",
      "2023-09-11 18:32:42.319090: I tensorflow/core/common_runtime/executor.cc:1197] [/device:CPU:0] (DEBUG INFO) Executor start aborting (this does not indicate an error and you can ignore this message): INVALID_ARGUMENT: You must feed a value for placeholder tensor 'decoder_sequence' with dtype float and shape [?,?,128]\n",
      "\t [[{{node decoder_sequence}}]]\n",
      "2023-09-11 18:32:42.329704: I tensorflow/core/common_runtime/executor.cc:1197] [/device:CPU:0] (DEBUG INFO) Executor start aborting (this does not indicate an error and you can ignore this message): INVALID_ARGUMENT: You must feed a value for placeholder tensor 'decoder_sequence' with dtype float and shape [?,?,128]\n",
      "\t [[{{node decoder_sequence}}]]\n",
      "2023-09-11 18:32:42.486721: I tensorflow/core/common_runtime/executor.cc:1197] [/device:CPU:0] (DEBUG INFO) Executor start aborting (this does not indicate an error and you can ignore this message): INVALID_ARGUMENT: You must feed a value for placeholder tensor 'decoder_sequence' with dtype float and shape [?,?,128]\n",
      "\t [[{{node decoder_sequence}}]]\n",
      "2023-09-11 18:32:42.495862: I tensorflow/core/common_runtime/executor.cc:1197] [/device:CPU:0] (DEBUG INFO) Executor start aborting (this does not indicate an error and you can ignore this message): INVALID_ARGUMENT: You must feed a value for placeholder tensor 'decoder_sequence' with dtype float and shape [?,?,128]\n",
      "\t [[{{node decoder_sequence}}]]\n",
      "2023-09-11 18:32:42.637481: I tensorflow/core/common_runtime/executor.cc:1197] [/device:CPU:0] (DEBUG INFO) Executor start aborting (this does not indicate an error and you can ignore this message): INVALID_ARGUMENT: You must feed a value for placeholder tensor 'inputs' with dtype float and shape [?,?,128]\n",
      "\t [[{{node inputs}}]]\n",
      "WARNING:absl:Found untraced functions such as multi_head_attention_layer_call_fn, multi_head_attention_layer_call_and_return_conditional_losses, layer_normalization_layer_call_fn, layer_normalization_layer_call_and_return_conditional_losses, dropout_1_layer_call_fn while saving (showing 5 of 342). These functions will not be directly callable after loading.\n"
     ]
    },
    {
     "name": "stdout",
     "output_type": "stream",
     "text": [
      "INFO:tensorflow:Assets written to: /thesis/models/e2_mixed_loc/assets\n"
     ]
    },
    {
     "name": "stderr",
     "output_type": "stream",
     "text": [
      "INFO:tensorflow:Assets written to: /thesis/models/e2_mixed_loc/assets\n"
     ]
    }
   ],
   "source": [
    "transformer.save(f'{model_serialization_path}/')"
   ]
  },
  {
   "cell_type": "code",
   "execution_count": 13,
   "metadata": {
    "id": "eVenfcXpVDXs"
   },
   "outputs": [],
   "source": [
    "with open(model_serialization_path + '/train_history.p', 'wb') as file_pi:\n",
    "    pickle.dump(history.history, file_pi)\n",
    "\n",
    "train_config = {\n",
    "    'batch_size': BATCH_SIZE,\n",
    "    'epochs': EPOCHS,\n",
    "    'num_samples': NUM_SAMPLES,\n",
    "    'max_seq_length': MAX_SEQ_LENGTH,\n",
    "    'random_state': RANDOM_STATE,\n",
    "    'validation_split': VALIDATION_SPLIT,\n",
    "    'encoder_layers': NUM_ENCODER_LAYERS,\n",
    "    'decoder_layers': NUM_DECODER_LAYERS,\n",
    "    'encoder_heads': NUM_ENCODER_HEADS,\n",
    "    'decoder_heads': NUM_DECODER_HEADS,\n",
    "    'dropout': DROPOUT,\n",
    "    'embedding_dim': EMBEDDING_DIM,\n",
    "    'intermediate_dim': INTERMEDIATE_DIM\n",
    "}\n",
    "\n",
    "with open(model_serialization_path + '/config.p', 'wb') as file_pi:\n",
    "    pickle.dump(train_config, file_pi)"
   ]
  },
  {
   "cell_type": "code",
   "execution_count": 14,
   "metadata": {
    "id": "3P4ZZWOi9Hl_"
   },
   "outputs": [],
   "source": [
    "transformer = tf.keras.models.load_model(f'{model_serialization_path}/', custom_objects={'masked_loss': masked_loss, 'masked_accuracy': masked_accuracy})"
   ]
  },
  {
   "cell_type": "markdown",
   "metadata": {
    "id": "hMBywO57SNO8"
   },
   "source": [
    "## Prediction"
   ]
  },
  {
   "cell_type": "code",
   "execution_count": 15,
   "metadata": {
    "colab": {
     "base_uri": "https://localhost:8080/"
    },
    "id": "vTCtzqJWElIR",
    "outputId": "b9a2bc41-949b-40a4-ad6d-f357009f13c4",
    "tags": []
   },
   "outputs": [
    {
     "name": "stdout",
     "output_type": "stream",
     "text": [
      "samuel meyer\n",
      "samuel meyer\n",
      "\n",
      "dmitry medvedev\n",
      "dmitry medvedev\n",
      "\n",
      "paulo ricardo\n",
      "paulo ricardo\n",
      "\n",
      "zouheir al qaissi\n",
      "zuhayr al qaysi\n",
      "\n",
      "tarek al bichri\n",
      "tarak al bichri\n",
      "\n",
      "thorsten brotzmann\n",
      "brotzmann thorsten\n",
      "\n"
     ]
    }
   ],
   "source": [
    "def decode_sequences(input_sentence):\n",
    "     # Tokenize the encoder input.\n",
    "    encoder_input_tokens = tf.keras.utils.pad_sequences(\n",
    "        dce.to_ids([input_sentence], insert_markers=True), \n",
    "        padding='post', \n",
    "        maxlen=MAX_SEQ_LENGTH+2\n",
    "    )\n",
    "\n",
    "    # Define a function that outputs the next token's probability given the\n",
    "    # input sequence.\n",
    "    def token_probability_fn(decoder_input_tokens):\n",
    "        return transformer([encoder_input_tokens, decoder_input_tokens])[:, -1, :]\n",
    "\n",
    "\n",
    "    prompt = tf.fill((1, 1), dce.char_index['\\t'])\n",
    "    generated_tokens = keras_nlp.utils.top_p_search(\n",
    "        token_probability_fn,\n",
    "        prompt,\n",
    "        p=0.1,\n",
    "        max_length=MAX_SEQ_LENGTH,\n",
    "        end_token_id=dce.char_index['\\n'],\n",
    "    )\n",
    "    generated_sentences = ''.join([dce.inverse_char_index[tkn] for tkn in generated_tokens.numpy()[0]])\n",
    "    return generated_sentences.strip()\n",
    "\n",
    "names = [\n",
    "    'samuel meyer',\n",
    "    'dmitry medvedev',\n",
    "    'paulo ricardo',\n",
    "    'zouheir al qaissi',\n",
    "    'tarek al bichri',\n",
    "    'thorsten brotzmann'\n",
    "]\n",
    "\n",
    "for s in names:\n",
    "    translated = decode_sequences(s)\n",
    "    print(s)\n",
    "    print(translated)\n",
    "    print()\n"
   ]
  }
 ],
 "metadata": {
  "accelerator": "GPU",
  "colab": {
   "gpuType": "T4",
   "provenance": []
  },
  "gpuClass": "standard",
  "kernelspec": {
   "display_name": "Python 3 (ipykernel)",
   "language": "python",
   "name": "python3"
  },
  "language_info": {
   "codemirror_mode": {
    "name": "ipython",
    "version": 3
   },
   "file_extension": ".py",
   "mimetype": "text/x-python",
   "name": "python",
   "nbconvert_exporter": "python",
   "pygments_lexer": "ipython3",
   "version": "3.8.10"
  },
  "vscode": {
   "interpreter": {
    "hash": "224e0c0e73d638a3e6069c377694d7b3b3236453c6483b31fd1a6425297d86e1"
   }
  }
 },
 "nbformat": 4,
 "nbformat_minor": 4
}
