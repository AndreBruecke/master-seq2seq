{
  "cells": [
    {
      "cell_type": "code",
      "execution_count": null,
      "metadata": {
        "colab": {
          "base_uri": "https://localhost:8080/"
        },
        "id": "W6Q5c99Ibn6h",
        "outputId": "968ccf8d-83af-40f2-bd36-c83ccbf9ef43"
      },
      "outputs": [
        {
          "name": "stdout",
          "output_type": "stream",
          "text": [
            "Mounted at /content/drive\n"
          ]
        }
      ],
      "source": [
        "import sys\n",
        "sys.path.append('/thesis')"
      ]
    },
    {
      "cell_type": "code",
      "execution_count": null,
      "metadata": {
        "colab": {
          "base_uri": "https://localhost:8080/"
        },
        "id": "fP7ayWracqNh",
        "outputId": "06aa480d-26b4-4be3-fb7c-db2439d246b0"
      },
      "outputs": [
        {
          "data": {
            "text/plain": [
              "[PhysicalDevice(name='/physical_device:GPU:0', device_type='GPU')]"
            ]
          },
          "execution_count": 6,
          "metadata": {},
          "output_type": "execute_result"
        }
      ],
      "source": [
        "import json\n",
        "import pickle\n",
        "# import logging\n",
        "# import time\n",
        "\n",
        "import numpy as np\n",
        "import pandas as pd\n",
        "# import matplotlib.pyplot as plt\n",
        "\n",
        "from helper.character_encoder import DictionaryCharacterEncoder\n",
        "from helper.prediction import predict_sequence\n",
        "\n",
        "from implementation.seq2seq.transformer.utils import masked_loss, masked_accuracy\n",
        "from implementation.seq2seq.transformer.keras_nlp import prepare_batches\n",
        "from implementation.seq2seq.transformer.keras_nlp import construct_model_w_teacher_forcing\n",
        "\n",
        "import tensorflow as tf\n",
        "import keras_nlp\n",
        "\n",
        "tf.config.list_physical_devices('GPU')"
      ]
    },
    {
      "cell_type": "code",
      "execution_count": null,
      "metadata": {
        "id": "xePXGXM_cWrl"
      },
      "outputs": [],
      "source": [
        "# Input file paths\n",
        "jrc_file = '/thesis/data/jrc_person_pairs.csv'\n",
        "wikidata_file = '/thesis/data/wikidata_person_pairs.csv'\n",
        "\n",
        "model_serialization_path = '/thesis/models/new'"
      ]
    },
    {
      "cell_type": "markdown",
      "metadata": {
        "id": "0PP58W4r4UVo"
      },
      "source": [
        "## Loading & Preprocessing"
      ]
    },
    {
      "cell_type": "code",
      "execution_count": null,
      "metadata": {
        "id": "SMRA3no_-amU"
      },
      "outputs": [],
      "source": [
        "# Preprocessing\n",
        "MAX_SEQ_LENGTH = 30  # 40\n",
        "NUM_SAMPLES = 550000\n",
        "VALIDATION_SPLIT = 0.25\n",
        "RANDOM_STATE = 1010\n",
        "BATCH_SIZE = 64\n",
        "\n",
        "# Model\n",
        "EMBEDDING_DIM = 64\n",
        "INTERMEDIATE_DIM = 512\n",
        "NUM_ENCODER_HEADS = 8\n",
        "NUM_DECODER_HEADS = 8\n",
        "NUM_ENCODER_LAYERS = 2\n",
        "NUM_DECODER_LAYERS = 4\n",
        "\n",
        "DROPOUT = 0.2\n",
        "\n",
        "# Training\n",
        "EPOCHS = 12 # 40\n",
        "CHECKPOINT_FREQ = 2"
      ]
    },
    {
      "cell_type": "code",
      "execution_count": null,
      "metadata": {
        "colab": {
          "base_uri": "https://localhost:8080/",
          "height": 477
        },
        "id": "YklOd1WPIbr2",
        "outputId": "7c097be5-ee6c-4106-c90b-2b11634e8543"
      },
      "outputs": [
        {
          "name": "stdout",
          "output_type": "stream",
          "text": [
            "Number of JRC pairs: 131636\n",
            "Number of Wikidata pairs: 434230 \n",
            "\n"
          ]
        },
        {
          "data": {
            "text/html": [
              "\n",
              "  <div id=\"df-238f73a5-aea0-4059-b8f9-30051ffab5b9\">\n",
              "    <div class=\"colab-df-container\">\n",
              "      <div>\n",
              "<style scoped>\n",
              "    .dataframe tbody tr th:only-of-type {\n",
              "        vertical-align: middle;\n",
              "    }\n",
              "\n",
              "    .dataframe tbody tr th {\n",
              "        vertical-align: top;\n",
              "    }\n",
              "\n",
              "    .dataframe thead th {\n",
              "        text-align: right;\n",
              "    }\n",
              "</style>\n",
              "<table border=\"1\" class=\"dataframe\">\n",
              "  <thead>\n",
              "    <tr style=\"text-align: right;\">\n",
              "      <th></th>\n",
              "      <th>input</th>\n",
              "      <th>target</th>\n",
              "    </tr>\n",
              "  </thead>\n",
              "  <tbody>\n",
              "    <tr>\n",
              "      <th>272102</th>\n",
              "      <td>katharine mccook knox</td>\n",
              "      <td>katherine mccook knox</td>\n",
              "    </tr>\n",
              "    <tr>\n",
              "      <th>431611</th>\n",
              "      <td>meri aroni</td>\n",
              "      <td>mary aroni</td>\n",
              "    </tr>\n",
              "    <tr>\n",
              "      <th>61867</th>\n",
              "      <td>alejandro foxley</td>\n",
              "      <td>alejandre foxley</td>\n",
              "    </tr>\n",
              "    <tr>\n",
              "      <th>424660</th>\n",
              "      <td>niche perez</td>\n",
              "      <td>limber perez</td>\n",
              "    </tr>\n",
              "    <tr>\n",
              "      <th>244085</th>\n",
              "      <td>jindrich wankel</td>\n",
              "      <td>heinrich wankel</td>\n",
              "    </tr>\n",
              "    <tr>\n",
              "      <th>...</th>\n",
              "      <td>...</td>\n",
              "      <td>...</td>\n",
              "    </tr>\n",
              "    <tr>\n",
              "      <th>440185</th>\n",
              "      <td>vitaly lisakovich</td>\n",
              "      <td>vital' lisakovic</td>\n",
              "    </tr>\n",
              "    <tr>\n",
              "      <th>122954</th>\n",
              "      <td>adam vojtech</td>\n",
              "      <td>adama vojtecha</td>\n",
              "    </tr>\n",
              "    <tr>\n",
              "      <th>27211</th>\n",
              "      <td>david petraeus</td>\n",
              "      <td>david petreaeus</td>\n",
              "    </tr>\n",
              "    <tr>\n",
              "      <th>164783</th>\n",
              "      <td>ethel standiford-mehling</td>\n",
              "      <td>ethel standiford-mehlingan</td>\n",
              "    </tr>\n",
              "    <tr>\n",
              "      <th>108526</th>\n",
              "      <td>magdalen herbert</td>\n",
              "      <td>magdalen newport</td>\n",
              "    </tr>\n",
              "  </tbody>\n",
              "</table>\n",
              "<p>565866 rows × 2 columns</p>\n",
              "</div>\n",
              "      <button class=\"colab-df-convert\" onclick=\"convertToInteractive('df-238f73a5-aea0-4059-b8f9-30051ffab5b9')\"\n",
              "              title=\"Convert this dataframe to an interactive table.\"\n",
              "              style=\"display:none;\">\n",
              "        \n",
              "  <svg xmlns=\"http://www.w3.org/2000/svg\" height=\"24px\"viewBox=\"0 0 24 24\"\n",
              "       width=\"24px\">\n",
              "    <path d=\"M0 0h24v24H0V0z\" fill=\"none\"/>\n",
              "    <path d=\"M18.56 5.44l.94 2.06.94-2.06 2.06-.94-2.06-.94-.94-2.06-.94 2.06-2.06.94zm-11 1L8.5 8.5l.94-2.06 2.06-.94-2.06-.94L8.5 2.5l-.94 2.06-2.06.94zm10 10l.94 2.06.94-2.06 2.06-.94-2.06-.94-.94-2.06-.94 2.06-2.06.94z\"/><path d=\"M17.41 7.96l-1.37-1.37c-.4-.4-.92-.59-1.43-.59-.52 0-1.04.2-1.43.59L10.3 9.45l-7.72 7.72c-.78.78-.78 2.05 0 2.83L4 21.41c.39.39.9.59 1.41.59.51 0 1.02-.2 1.41-.59l7.78-7.78 2.81-2.81c.8-.78.8-2.07 0-2.86zM5.41 20L4 18.59l7.72-7.72 1.47 1.35L5.41 20z\"/>\n",
              "  </svg>\n",
              "      </button>\n",
              "      \n",
              "  <style>\n",
              "    .colab-df-container {\n",
              "      display:flex;\n",
              "      flex-wrap:wrap;\n",
              "      gap: 12px;\n",
              "    }\n",
              "\n",
              "    .colab-df-convert {\n",
              "      background-color: #E8F0FE;\n",
              "      border: none;\n",
              "      border-radius: 50%;\n",
              "      cursor: pointer;\n",
              "      display: none;\n",
              "      fill: #1967D2;\n",
              "      height: 32px;\n",
              "      padding: 0 0 0 0;\n",
              "      width: 32px;\n",
              "    }\n",
              "\n",
              "    .colab-df-convert:hover {\n",
              "      background-color: #E2EBFA;\n",
              "      box-shadow: 0px 1px 2px rgba(60, 64, 67, 0.3), 0px 1px 3px 1px rgba(60, 64, 67, 0.15);\n",
              "      fill: #174EA6;\n",
              "    }\n",
              "\n",
              "    [theme=dark] .colab-df-convert {\n",
              "      background-color: #3B4455;\n",
              "      fill: #D2E3FC;\n",
              "    }\n",
              "\n",
              "    [theme=dark] .colab-df-convert:hover {\n",
              "      background-color: #434B5C;\n",
              "      box-shadow: 0px 1px 3px 1px rgba(0, 0, 0, 0.15);\n",
              "      filter: drop-shadow(0px 1px 2px rgba(0, 0, 0, 0.3));\n",
              "      fill: #FFFFFF;\n",
              "    }\n",
              "  </style>\n",
              "\n",
              "      <script>\n",
              "        const buttonEl =\n",
              "          document.querySelector('#df-238f73a5-aea0-4059-b8f9-30051ffab5b9 button.colab-df-convert');\n",
              "        buttonEl.style.display =\n",
              "          google.colab.kernel.accessAllowed ? 'block' : 'none';\n",
              "\n",
              "        async function convertToInteractive(key) {\n",
              "          const element = document.querySelector('#df-238f73a5-aea0-4059-b8f9-30051ffab5b9');\n",
              "          const dataTable =\n",
              "            await google.colab.kernel.invokeFunction('convertToInteractive',\n",
              "                                                     [key], {});\n",
              "          if (!dataTable) return;\n",
              "\n",
              "          const docLinkHtml = 'Like what you see? Visit the ' +\n",
              "            '<a target=\"_blank\" href=https://colab.research.google.com/notebooks/data_table.ipynb>data table notebook</a>'\n",
              "            + ' to learn more about interactive tables.';\n",
              "          element.innerHTML = '';\n",
              "          dataTable['output_type'] = 'display_data';\n",
              "          await google.colab.output.renderOutput(dataTable, element);\n",
              "          const docLink = document.createElement('div');\n",
              "          docLink.innerHTML = docLinkHtml;\n",
              "          element.appendChild(docLink);\n",
              "        }\n",
              "      </script>\n",
              "    </div>\n",
              "  </div>\n",
              "  "
            ],
            "text/plain": [
              "                           input                      target\n",
              "272102     katharine mccook knox       katherine mccook knox\n",
              "431611                meri aroni                  mary aroni\n",
              "61867           alejandro foxley            alejandre foxley\n",
              "424660               niche perez                limber perez\n",
              "244085           jindrich wankel             heinrich wankel\n",
              "...                          ...                         ...\n",
              "440185         vitaly lisakovich            vital' lisakovic\n",
              "122954              adam vojtech              adama vojtecha\n",
              "27211             david petraeus             david petreaeus\n",
              "164783  ethel standiford-mehling  ethel standiford-mehlingan\n",
              "108526          magdalen herbert            magdalen newport\n",
              "\n",
              "[565866 rows x 2 columns]"
            ]
          },
          "execution_count": 9,
          "metadata": {},
          "output_type": "execute_result"
        }
      ],
      "source": [
        "pairs_df = pd.read_csv(jrc_file, sep='|', encoding='utf-8')[['input', 'target']]\n",
        "pairs_df = pairs_df[(pairs_df['input'].str.len() <= MAX_SEQ_LENGTH) & (pairs_df['target'].str.len() <= MAX_SEQ_LENGTH)]\n",
        "print('Number of JRC pairs:', len(pairs_df))\n",
        "pairs_df2 = pd.read_csv(wikidata_file, sep='|', encoding='utf-8')[['input', 'target']]\n",
        "pairs_df2 = pairs_df2[(pairs_df2['input'].str.len() <= MAX_SEQ_LENGTH) & (pairs_df2['target'].str.len() <= MAX_SEQ_LENGTH)]\n",
        "print('Number of Wikidata pairs:', len(pairs_df2), '\\n')\n",
        "\n",
        "pairs_df = pd.concat([pairs_df, pairs_df2]).sample(frac=1, random_state=RANDOM_STATE)\n",
        "pairs_df"
      ]
    },
    {
      "cell_type": "code",
      "execution_count": null,
      "metadata": {
        "id": "bKGmIus7UwPf"
      },
      "outputs": [],
      "source": [
        "dce = DictionaryCharacterEncoder(max_seq_length=MAX_SEQ_LENGTH+2)\n",
        "train_batches, val_batches = prepare_batches(pairs_df, dce, NUM_SAMPLES, VALIDATION_SPLIT, BATCH_SIZE, RANDOM_STATE)"
      ]
    },
    {
      "cell_type": "code",
      "execution_count": null,
      "metadata": {
        "colab": {
          "base_uri": "https://localhost:8080/"
        },
        "id": "OmIgN6LG6yf2",
        "outputId": "32bf90fd-4a8c-4e1f-a58a-383bf2e5b64a"
      },
      "outputs": [
        {
          "name": "stdout",
          "output_type": "stream",
          "text": [
            "Encoder inputs shape: (64, 30)\n",
            "Decoder inputs shape: (64, 31)\n",
            "Targets shape: (64, 31)\n"
          ]
        }
      ],
      "source": [
        "for inputs, targets in train_batches.take(1):\n",
        "    print(f'Encoder inputs shape: {inputs[0].shape}')\n",
        "    print(f'Decoder inputs shape: {inputs[1].shape}')\n",
        "    print(f'Targets shape: {targets.shape}')"
      ]
    },
    {
      "cell_type": "markdown",
      "metadata": {
        "id": "tHdL_iLmSDzu"
      },
      "source": [
        "## Model"
      ]
    },
    {
      "cell_type": "code",
      "execution_count": null,
      "metadata": {
        "id": "BpByow45PShR"
      },
      "outputs": [],
      "source": [
        "transformer = construct_model_w_teacher_forcing(\n",
        "    num_encoder_layers=NUM_ENCODER_LAYERS, \n",
        "    num_decoder_layers=NUM_DECODER_LAYERS, \n",
        "    unique_tokens=len(dce.charset),\n",
        "    max_seq_length=MAX_SEQ_LENGTH,\n",
        "    embedding_dim=EMBEDDING_DIM,\n",
        "    intermediate_dim=INTERMEDIATE_DIM,\n",
        "    encoder_heads=NUM_ENCODER_HEADS,\n",
        "    decoder_heads=NUM_DECODER_HEADS,\n",
        "    dropout=DROPOUT\n",
        ")"
      ]
    },
    {
      "cell_type": "code",
      "execution_count": null,
      "metadata": {
        "colab": {
          "base_uri": "https://localhost:8080/"
        },
        "id": "T3kmpRcNAkwP",
        "outputId": "1c327bc0-0a3a-4dab-f77e-609ced22fa03"
      },
      "outputs": [
        {
          "name": "stdout",
          "output_type": "stream",
          "text": [
            "Model: \"transformer_w_tf\"\n",
            "__________________________________________________________________________________________________\n",
            " Layer (type)                   Output Shape         Param #     Connected to                     \n",
            "==================================================================================================\n",
            " encoder_inputs (InputLayer)    [(None, 32)]         0           []                               \n",
            "                                                                                                  \n",
            " embedding (Embedding)          (None, 32, 64)       2176        ['encoder_inputs[0][0]']         \n",
            "                                                                                                  \n",
            " position_embedding (PositionEm  (None, 32, 64)      2048        ['embedding[0][0]']              \n",
            " bedding)                                                                                         \n",
            "                                                                                                  \n",
            " tf.__operators__.add (TFOpLamb  (None, 32, 64)      0           ['embedding[0][0]',              \n",
            " da)                                                              'position_embedding[0][0]']     \n",
            "                                                                                                  \n",
            " transformer_encoder (Transform  (None, 32, 64)      83008       ['tf.__operators__.add[0][0]']   \n",
            " erEncoder)                                                                                       \n",
            "                                                                                                  \n",
            " decoder_inputs (InputLayer)    [(None, None)]       0           []                               \n",
            "                                                                                                  \n",
            " transformer_encoder_1 (Transfo  (None, 32, 64)      83008       ['transformer_encoder[0][0]']    \n",
            " rmerEncoder)                                                                                     \n",
            "                                                                                                  \n",
            " model_1 (Functional)           (None, None, 34)     405538      ['decoder_inputs[0][0]',         \n",
            "                                                                  'transformer_encoder_1[0][0]']  \n",
            "                                                                                                  \n",
            "==================================================================================================\n",
            "Total params: 575,778\n",
            "Trainable params: 575,778\n",
            "Non-trainable params: 0\n",
            "__________________________________________________________________________________________________\n"
          ]
        }
      ],
      "source": [
        "transformer.summary()\n",
        "# transformer.compile(\"rmsprop\", loss=\"sparse_categorical_crossentropy\", metrics=[\"accuracy\"])\n",
        "transformer.compile(\n",
        "    loss=masked_loss,\n",
        "    optimizer=tf.keras.optimizers.Adam(),\n",
        "    metrics=[masked_accuracy])"
      ]
    },
    {
      "cell_type": "markdown",
      "metadata": {
        "id": "ERhizpGkSJk3"
      },
      "source": [
        "## Training"
      ]
    },
    {
      "cell_type": "code",
      "execution_count": null,
      "metadata": {
        "id": "cWryJFxCQV1C"
      },
      "outputs": [],
      "source": [
        "steps_per_epoch = len(train_batches)\n",
        "\n",
        "checkpoint_path = f'{model_serialization_path}/checkpoints/' + 'weights-{epoch:03d}'\n",
        "checkpoint = tf.keras.callbacks.ModelCheckpoint(\n",
        "                checkpoint_path, \n",
        "                monitor='val_masked_accuracy', \n",
        "                save_weights_only=True,\n",
        "                save_freq=int(steps_per_epoch * CHECKPOINT_FREQ), \n",
        "                verbose=1)"
      ]
    },
    {
      "cell_type": "code",
      "execution_count": null,
      "metadata": {
        "colab": {
          "base_uri": "https://localhost:8080/"
        },
        "id": "Nt1YvG8oAn2_",
        "outputId": "72149364-17e7-4d64-eba3-5bd01a3247fb"
      },
      "outputs": [
        {
          "name": "stdout",
          "output_type": "stream",
          "text": [
            "Epoch 1/12\n",
            "5739/5739 [==============================] - 315s 49ms/step - loss: 0.9654 - masked_accuracy: 0.7524 - val_loss: 0.6379 - val_masked_accuracy: 0.8368\n",
            "Epoch 2/12\n",
            "5737/5739 [============================>.] - ETA: 0s - loss: 0.6603 - masked_accuracy: 0.8309\n",
            "Epoch 2: saving model to /content/drive/MyDrive/HDa/Masterarbeit/Models/transf_mixed_e4/checkpoints/weights-002\n",
            "5739/5739 [==============================] - 293s 51ms/step - loss: 0.6603 - masked_accuracy: 0.8309 - val_loss: 0.5579 - val_masked_accuracy: 0.8549\n",
            "Epoch 3/12\n",
            "5739/5739 [==============================] - 289s 50ms/step - loss: 0.5974 - masked_accuracy: 0.8452 - val_loss: 0.5331 - val_masked_accuracy: 0.8602\n",
            "Epoch 4/12\n",
            "5737/5739 [============================>.] - ETA: 0s - loss: 0.5684 - masked_accuracy: 0.8513\n",
            "Epoch 4: saving model to /content/drive/MyDrive/HDa/Masterarbeit/Models/transf_mixed_e4/checkpoints/weights-004\n",
            "5739/5739 [==============================] - 285s 50ms/step - loss: 0.5684 - masked_accuracy: 0.8513 - val_loss: 0.5034 - val_masked_accuracy: 0.8664\n",
            "Epoch 5/12\n",
            "5739/5739 [==============================] - 286s 50ms/step - loss: 0.5507 - masked_accuracy: 0.8547 - val_loss: 0.4919 - val_masked_accuracy: 0.8683\n",
            "Epoch 6/12\n",
            "5738/5739 [============================>.] - ETA: 0s - loss: 0.5381 - masked_accuracy: 0.8573\n",
            "Epoch 6: saving model to /content/drive/MyDrive/HDa/Masterarbeit/Models/transf_mixed_e4/checkpoints/weights-006\n",
            "5739/5739 [==============================] - 292s 51ms/step - loss: 0.5381 - masked_accuracy: 0.8573 - val_loss: 0.4842 - val_masked_accuracy: 0.8699\n",
            "Epoch 7/12\n",
            "5739/5739 [==============================] - 297s 52ms/step - loss: 0.5291 - masked_accuracy: 0.8591 - val_loss: 0.4727 - val_masked_accuracy: 0.8724\n",
            "Epoch 8/12\n",
            "5737/5739 [============================>.] - ETA: 0s - loss: 0.5220 - masked_accuracy: 0.8606\n",
            "Epoch 8: saving model to /content/drive/MyDrive/HDa/Masterarbeit/Models/transf_mixed_e4/checkpoints/weights-008\n",
            "5739/5739 [==============================] - 304s 53ms/step - loss: 0.5220 - masked_accuracy: 0.8606 - val_loss: 0.4673 - val_masked_accuracy: 0.8731\n",
            "Epoch 9/12\n",
            "5739/5739 [==============================] - 292s 51ms/step - loss: 0.5161 - masked_accuracy: 0.8618 - val_loss: 0.4694 - val_masked_accuracy: 0.8730\n",
            "Epoch 10/12\n",
            "5738/5739 [============================>.] - ETA: 0s - loss: 0.5115 - masked_accuracy: 0.8628\n",
            "Epoch 10: saving model to /content/drive/MyDrive/HDa/Masterarbeit/Models/transf_mixed_e4/checkpoints/weights-010\n",
            "5739/5739 [==============================] - 304s 53ms/step - loss: 0.5115 - masked_accuracy: 0.8628 - val_loss: 0.4582 - val_masked_accuracy: 0.8751\n",
            "Epoch 11/12\n",
            "5739/5739 [==============================] - 292s 51ms/step - loss: 0.5076 - masked_accuracy: 0.8635 - val_loss: 0.4587 - val_masked_accuracy: 0.8755\n",
            "Epoch 12/12\n",
            "5738/5739 [============================>.] - ETA: 0s - loss: 0.5044 - masked_accuracy: 0.8642\n",
            "Epoch 12: saving model to /content/drive/MyDrive/HDa/Masterarbeit/Models/transf_mixed_e4/checkpoints/weights-012\n",
            "5739/5739 [==============================] - 286s 50ms/step - loss: 0.5044 - masked_accuracy: 0.8642 - val_loss: 0.4540 - val_masked_accuracy: 0.8759\n"
          ]
        }
      ],
      "source": [
        "history = transformer.fit(train_batches, epochs=EPOCHS, validation_data=val_batches, callbacks=[checkpoint])"
      ]
    },
    {
      "cell_type": "code",
      "execution_count": null,
      "metadata": {
        "colab": {
          "base_uri": "https://localhost:8080/"
        },
        "id": "mquhrVPYRMhY",
        "outputId": "8c253fb1-a777-46dc-d85d-876a8ffaefa3"
      },
      "outputs": [
        {
          "name": "stderr",
          "output_type": "stream",
          "text": [
            "WARNING:absl:Found untraced functions such as multi_head_attention_layer_call_fn, multi_head_attention_layer_call_and_return_conditional_losses, layer_normalization_layer_call_fn, layer_normalization_layer_call_and_return_conditional_losses, dropout_1_layer_call_fn while saving (showing 5 of 228). These functions will not be directly callable after loading.\n"
          ]
        }
      ],
      "source": [
        "transformer.save(f'{model_serialization_path}/')"
      ]
    },
    {
      "cell_type": "code",
      "execution_count": null,
      "metadata": {
        "id": "eVenfcXpVDXs"
      },
      "outputs": [],
      "source": [
        "with open(model_serialization_path + '/train_history.p', 'wb') as file_pi:\n",
        "    pickle.dump(history.history, file_pi)\n",
        "\n",
        "train_config = {\n",
        "    'batch_size': BATCH_SIZE,\n",
        "    'epochs': EPOCHS,\n",
        "    'num_samples': NUM_SAMPLES,\n",
        "    'max_seq_length': MAX_SEQ_LENGTH,\n",
        "    'random_state': RANDOM_STATE,\n",
        "    'validation_split': VALIDATION_SPLIT,\n",
        "    'encoder_layers': NUM_ENCODER_LAYERS,\n",
        "    'decoder_layers': NUM_DECODER_LAYERS,\n",
        "    'encoder_heads': NUM_ENCODER_HEADS,\n",
        "    'decoder_heads': NUM_DECODER_HEADS,\n",
        "    'dropout': DROPOUT,\n",
        "    'embedding_dim': EMBEDDING_DIM,\n",
        "    'intermediate_dim': INTERMEDIATE_DIM\n",
        "}\n",
        "\n",
        "with open(model_serialization_path + '/config.p', 'wb') as file_pi:\n",
        "    pickle.dump(train_config, file_pi)"
      ]
    },
    {
      "cell_type": "code",
      "execution_count": null,
      "metadata": {
        "id": "3P4ZZWOi9Hl_"
      },
      "outputs": [],
      "source": [
        "transformer = tf.keras.models.load_model(f'{model_serialization_path}/', custom_objects={'masked_loss': masked_loss, 'masked_accuracy': masked_accuracy})"
      ]
    },
    {
      "cell_type": "markdown",
      "metadata": {
        "id": "hMBywO57SNO8"
      },
      "source": [
        "## Prediction"
      ]
    },
    {
      "cell_type": "code",
      "execution_count": null,
      "metadata": {
        "colab": {
          "base_uri": "https://localhost:8080/"
        },
        "id": "vTCtzqJWElIR",
        "outputId": "b9a2bc41-949b-40a4-ad6d-f357009f13c4"
      },
      "outputs": [
        {
          "name": "stdout",
          "output_type": "stream",
          "text": [
            "samuel meyer\n",
            "samuel meyerova\n",
            "\n",
            "dmitry medvedev\n",
            "dmitrij medvedev\n",
            "\n",
            "paulo ricardo\n",
            "paulo ricardova\n",
            "\n",
            "zouheir al qaissi\n",
            "zuheir al qaissi\n",
            "\n",
            "tarek al bichri\n",
            "tarek al bichry\n",
            "\n",
            "thorsten brotzmann\n",
            "thorsten brotzman\n",
            "\n"
          ]
        }
      ],
      "source": [
        "def decode_sequences(input_sentence):\n",
        "     # Tokenize the encoder input.\n",
        "    encoder_input_tokens = tf.keras.utils.pad_sequences(\n",
        "        dce.to_ids([input_sentence], insert_markers=True), \n",
        "        padding='post', \n",
        "        maxlen=MAX_SEQ_LENGTH+2\n",
        "    )\n",
        "\n",
        "    # Define a function that outputs the next token's probability given the\n",
        "    # input sequence.\n",
        "    def token_probability_fn(decoder_input_tokens):\n",
        "        return transformer([encoder_input_tokens, decoder_input_tokens])[:, -1, :]\n",
        "\n",
        "\n",
        "    prompt = tf.fill((1, 1), dce.char_index['\\t'])\n",
        "    generated_tokens = keras_nlp.utils.top_p_search(\n",
        "        token_probability_fn,\n",
        "        prompt,\n",
        "        p=0.1,\n",
        "        max_length=MAX_SEQ_LENGTH,\n",
        "        end_token_id=dce.char_index['\\n'],\n",
        "    )\n",
        "    generated_sentences = ''.join([dce.inverse_char_index[tkn] for tkn in generated_tokens.numpy()[0]])\n",
        "    return generated_sentences.strip()\n",
        "\n",
        "names = [\n",
        "    'samuel meyer',\n",
        "    'dmitry medvedev',\n",
        "    'paulo ricardo',\n",
        "    'zouheir al qaissi',\n",
        "    'tarek al bichri',\n",
        "    'thorsten brotzmann'\n",
        "]\n",
        "\n",
        "for s in names:\n",
        "    translated = decode_sequences(s)\n",
        "    print(s)\n",
        "    print(translated)\n",
        "    print()\n"
      ]
    }
  ],
  "metadata": {
    "accelerator": "GPU",
    "colab": {
      "gpuType": "T4",
      "provenance": []
    },
    "gpuClass": "standard",
    "kernelspec": {
      "display_name": "master-thesis",
      "language": "python",
      "name": "python3"
    },
    "language_info": {
      "name": "python",
      "version": "3.8.16 (default, Jan 17 2023, 22:25:28) [MSC v.1916 64 bit (AMD64)]"
    },
    "vscode": {
      "interpreter": {
        "hash": "224e0c0e73d638a3e6069c377694d7b3b3236453c6483b31fd1a6425297d86e1"
      }
    }
  },
  "nbformat": 4,
  "nbformat_minor": 0
}
